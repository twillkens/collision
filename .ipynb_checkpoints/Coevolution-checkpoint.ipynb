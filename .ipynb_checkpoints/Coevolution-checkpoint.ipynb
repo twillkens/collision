{
 "cells": [
  {
   "cell_type": "markdown",
   "id": "a9affdad-e779-4cc8-bd67-60cf675d017e",
   "metadata": {},
   "source": [
    "## Imports"
   ]
  },
  {
   "cell_type": "code",
   "execution_count": 1,
   "id": "faf8c52a-930b-45e5-a003-86817ef42a08",
   "metadata": {},
   "outputs": [],
   "source": [
    "using Random\n",
    "using StableRNGs\n",
    "using StatsBase"
   ]
  },
  {
   "cell_type": "markdown",
   "id": "6a3e6968-00bc-495d-905e-7025052a1f32",
   "metadata": {},
   "source": [
    "## Abstract Types"
   ]
  },
  {
   "cell_type": "code",
   "execution_count": 2,
   "id": "7ab306af-3ad0-4fcf-97bd-b70682f58e70",
   "metadata": {},
   "outputs": [],
   "source": [
    "# top level\n",
    "abstract type AbstractEntity end\n",
    "\n",
    "# entity that cannot be composed into subentities\n",
    "abstract type AbstractAtom <: AbstractEntity end\n",
    "\n",
    "# datatype of the \"DNA\" or information for encoding an entity\n",
    "abstract type AbstractGenotype end\n",
    "\n",
    "# datatype of the \"expression\" of the genotype, used for evaluation\n",
    "abstract type AbstractPhenotype end\n",
    "\n",
    "# atomic entity comprising a genotype and a phenotype\n",
    "abstract type AbstractOrganism{G <: AbstractGenotype, P <: AbstractPhenotype} <: AbstractAtom end\n",
    "\n",
    "# a set of organisms (which itself constitutes an entity)\n",
    "abstract type AbstractPopulation{O <: AbstractOrganism} <: AbstractEntity end\n",
    "\n",
    "# a mode of interaction between entities\n",
    "abstract type AbstractDomain end\n",
    "\n",
    "# a means of determining which entities interact \n",
    "abstract type AbstractRecipe end\n",
    "\n",
    "# specifies (1) a set of entities or their keys, (2) the domain in which they interact\n",
    "abstract type AbstractMix{T, D <: AbstractDomain} end\n",
    "\n",
    "# an outcome of an interaction\n",
    "abstract type AbstractOutcome end\n",
    "\n",
    "# statistics associated with an entity\n",
    "abstract type AbstractStatistics end\n",
    "\n",
    "# driver\n",
    "abstract type AbstractCoevolution <: AbstractEntity end"
   ]
  },
  {
   "cell_type": "markdown",
   "id": "e3c22ae4-4899-4ccf-b10b-786251ad7e17",
   "metadata": {},
   "source": [
    "## Global Constants"
   ]
  },
  {
   "cell_type": "code",
   "execution_count": 3,
   "id": "5291b928-b34c-4835-8ab3-cf6a1c404cdf",
   "metadata": {
    "tags": []
   },
   "outputs": [
    {
     "data": {
      "text/plain": [
       "\"-\""
      ]
     },
     "execution_count": 3,
     "metadata": {},
     "output_type": "execute_result"
    }
   ],
   "source": [
    "Key = String\n",
    "KEY_SPLIT_TOKEN = \"-\""
   ]
  },
  {
   "cell_type": "markdown",
   "id": "ac0792af-0120-4e16-acbd-22155a2424ef",
   "metadata": {},
   "source": [
    "## Domain"
   ]
  },
  {
   "cell_type": "code",
   "execution_count": 4,
   "id": "6c1f0746-96f6-4bf9-9752-0f1dd0bd41e6",
   "metadata": {},
   "outputs": [
    {
     "data": {
      "text/plain": [
       "NGRelativism"
      ]
     },
     "execution_count": 4,
     "metadata": {},
     "output_type": "execute_result"
    }
   ],
   "source": [
    "abstract type NumbersGame <: AbstractDomain end\n",
    "    \n",
    "struct NGGradient <: NumbersGame end\n",
    "\n",
    "function NGGradient(cfg::NamedTuple)\n",
    "    NGGradient()\n",
    "end\n",
    "\n",
    "struct NGFocusing <: NumbersGame end\n",
    "\n",
    "function NGFocusing(cfg::NamedTuple)\n",
    "    NGFocusing()\n",
    "end\n",
    "\n",
    "struct NGRelativism <: NumbersGame end\n",
    "\n",
    "function NGRelativism(cfg::NamedTuple)\n",
    "    NGRelativism()\n",
    "end"
   ]
  },
  {
   "cell_type": "markdown",
   "id": "afc5eb22-3867-405b-8de8-04959d5ace2f",
   "metadata": {},
   "source": [
    "## BasicGeno"
   ]
  },
  {
   "cell_type": "code",
   "execution_count": 5,
   "id": "490afe6b-d4de-4cec-a95b-244bcf1f9c0f",
   "metadata": {
    "tags": []
   },
   "outputs": [],
   "source": [
    "struct BasicGeno{G, D <: AbstractDomain} <: AbstractGenotype\n",
    "    key::Key\n",
    "    genes::G\n",
    "    stats::Set{AbstractStatistics}\n",
    "    BasicGeno{G, D}(key, genes) where {G, D <: AbstractDomain} = new(key, genes, Set())\n",
    "end\n",
    "\n",
    "function BasicGeno{Vector{Bool}, NumbersGame}(key::Key, val::Bool, width::Int)\n",
    "    bits = Bool[val for _ in 1:width]\n",
    "    BasicGeno{Vector{Bool}, NumbersGame}(key, bits)\n",
    "end\n",
    "\n",
    "function BasicGeno{Vector{Bool}, NumbersGame}(key::Key, rng::AbstractRNG, width::Int)\n",
    "    bits = rand(rng, Bool, width)\n",
    "    BasicGeno{Vector{Bool}, NumbersGame}(key, bits)\n",
    "end\n",
    "\n",
    "function BasicGeno{Vector{Bool}, NumbersGame}(key::Key, cfg::NamedTuple)\n",
    "    if haskey(cfg, :genome_default_val)\n",
    "        BasicGeno{Vector{Bool}, NumbersGame}(key, cfg.genome_default_val, cfg.genome_width)\n",
    "    elseif haskey(cfg, :rng)\n",
    "        BasicGeno{Vector{Bool}, NumbersGame}(key, cfg.rng, cfg.genome_width)\n",
    "    else\n",
    "        error(\"Invalid config for genomes\")\n",
    "    end\n",
    "end"
   ]
  },
  {
   "cell_type": "code",
   "execution_count": 6,
   "id": "43036f82-db59-454a-a615-214473d07de9",
   "metadata": {},
   "outputs": [
    {
     "name": "stdout",
     "output_type": "stream",
     "text": [
      "BasicGeno{Vector{Bool}, NumbersGame}(\"AllZeros\", Bool[0, 0, 0, 0, 0, 0, 0, 0, 0, 0], Set{AbstractStatistics}())\n",
      "BasicGeno{Vector{Bool}, NumbersGame}(\"AllOnes\", Bool[1, 1, 1, 1, 1, 1, 1, 1, 1, 1, 1, 1, 1, 1, 1], Set{AbstractStatistics}())\n",
      "BasicGeno{Vector{Bool}, NumbersGame}(\"Random\", Bool[1, 0, 1, 1, 1, 1, 0, 1, 1, 1, 1, 1, 1, 1, 0, 0, 0, 0, 0, 1], Set{AbstractStatistics}())\n"
     ]
    }
   ],
   "source": [
    "T = Vector{Bool}\n",
    "D = NumbersGame\n",
    "G = BasicGeno{T, D}\n",
    "\n",
    "# genome initialization with default value 0\n",
    "cfg = (genome_default_val = false, genome_width = 10)\n",
    "geno_zeros = G(\"AllZeros\", cfg)\n",
    "println(geno_zeros)\n",
    "\n",
    "# genome initialization with default value 1\n",
    "cfg = (genome_default_val = true, genome_width = 15)\n",
    "geno_ones = G(\"AllOnes\", cfg)\n",
    "println(geno_ones)\n",
    "\n",
    "# # genome initialization with random values\n",
    "cfg = (rng = StableRNG(123), genome_width = 20)\n",
    "geno_rand = G(\"Random\", cfg)\n",
    "println(geno_rand)"
   ]
  },
  {
   "cell_type": "markdown",
   "id": "682bbd5d-053f-4897-a3be-ab80b4befe72",
   "metadata": {},
   "source": [
    "## BasicPheno"
   ]
  },
  {
   "cell_type": "code",
   "execution_count": 7,
   "id": "68416744-931e-4e55-b600-d0ef8bdb0991",
   "metadata": {
    "tags": []
   },
   "outputs": [],
   "source": [
    "struct BasicPheno{T, D <: AbstractDomain} <: AbstractPhenotype\n",
    "    key::Key\n",
    "    traits::T\n",
    "    stats::Set{AbstractStatistics}\n",
    "    BasicPheno{T, D}(key, traits) where {T, D} = new(key, traits, Set())\n",
    "end\n",
    "\n",
    "function BasicPheno{Int, NumbersGame}(key::Key, geno::BasicGeno{Vector{Bool}}, cfg::NamedTuple)\n",
    "    BasicPheno{Int, NumbersGame}(key, sum(geno.genes))\n",
    "end\n",
    "\n",
    "function BasicPheno{Vector{Int}, NumbersGame}(key::Key, geno::BasicGeno{Vector{Bool}}, subvector_width::Int)\n",
    "    if mod(length(geno.genes), subvector_width) != 0\n",
    "        error(\"Invalid subvector width for given genome width\")\n",
    "    end\n",
    "    traits = [sum(part) for part in Iterators.partition(geno.genes, subvector_width)]\n",
    "    BasicPheno{Vector{Int}, NumbersGame}(key, traits)\n",
    "end\n",
    "\n",
    "function BasicPheno{Vector{Int}, NumbersGame}(key::Key, geno::BasicGeno{Vector{Bool}}, cfg::NamedTuple)\n",
    "    BasicPheno{Vector{Int}, NumbersGame}(key, geno, cfg.subvector_width)\n",
    "end"
   ]
  },
  {
   "cell_type": "code",
   "execution_count": 8,
   "id": "b5d7cf13-6964-4e74-81c2-74083ff1c49f",
   "metadata": {},
   "outputs": [
    {
     "name": "stdout",
     "output_type": "stream",
     "text": [
      "BasicPheno{Int64, NumbersGame}(\"IntPheno\", 47, Set{AbstractStatistics}())\n",
      "BasicPheno{Vector{Int64}, NumbersGame}(\"VecPheno\", [8, 5, 7, 5, 5, 2, 6, 1, 5, 3], Set{AbstractStatistics}())\n"
     ]
    }
   ],
   "source": [
    "cfg = (rng = StableRNG(123), subvector_width = 10, genome_width = 100)\n",
    "\n",
    "T = Vector{Bool}\n",
    "D = NumbersGame\n",
    "G = BasicGeno{T, D}\n",
    "geno_rand = G(\"RandGeno\", cfg)\n",
    "\n",
    "T = Int\n",
    "D = NumbersGame\n",
    "P = BasicPheno{T, D}\n",
    "pheno_int = P(\"IntPheno\", geno_rand, cfg)\n",
    "\n",
    "T = Vector{Int}\n",
    "D = NumbersGame\n",
    "P = BasicPheno{T, D}\n",
    "pheno_vec = P(\"VecPheno\", geno_rand, cfg)\n",
    "\n",
    "println(pheno_int)\n",
    "println(pheno_vec)"
   ]
  },
  {
   "cell_type": "markdown",
   "id": "861f16d6-d08a-4e8e-ae6f-bc3cb8386bf4",
   "metadata": {},
   "source": [
    "## BasicOrg"
   ]
  },
  {
   "cell_type": "code",
   "execution_count": 9,
   "id": "8eaf6812-d903-4ed4-bbf4-7e2b4fc983da",
   "metadata": {
    "tags": []
   },
   "outputs": [],
   "source": [
    "struct BasicOrg{G, P} <: AbstractOrganism{G, P}\n",
    "    key::Key\n",
    "    geno::G\n",
    "    pheno::P\n",
    "    outcomes::Set{AbstractOutcome}\n",
    "    stats::Set{AbstractStatistics}\n",
    "    BasicOrg{G, P}(key, geno, pheno) where {G, P} = new(key, geno, pheno, Set(), Set())\n",
    "end\n",
    "\n",
    "function BasicOrg{G, P}(key::String, cfg::NamedTuple) where {G <: AbstractGenotype, P <: AbstractPhenotype}\n",
    "    geno = G(key, cfg)\n",
    "    pheno = P(key, geno, cfg)\n",
    "    BasicOrg{G, P}(key, geno, pheno)\n",
    "end"
   ]
  },
  {
   "cell_type": "code",
   "execution_count": 10,
   "id": "33802030-a6a8-4fcc-a574-306157b62a4d",
   "metadata": {},
   "outputs": [
    {
     "name": "stdout",
     "output_type": "stream",
     "text": [
      "BasicOrg{BasicGeno{Vector{Bool}, NumbersGame}, BasicPheno{Vector{Int64}, NumbersGame}}(\"Organism\", BasicGeno{Vector{Bool}, NumbersGame}(\"Organism\", Bool[1, 0, 1, 1, 1, 1, 0, 1, 1, 1, 1, 1, 1, 1, 0, 0, 0, 0, 0, 1, 1, 0, 1, 1, 0, 1, 1, 1, 1, 0, 1, 1, 1, 1, 1, 0, 0, 0, 0, 0, 0, 1, 1, 1, 1, 0, 0, 0, 0, 1, 0, 0, 1, 0, 0, 0, 1, 0, 0, 0, 1, 1, 1, 1, 1, 0, 0, 0, 1, 0, 0, 0, 0, 0, 0, 0, 0, 0, 0, 1, 0, 1, 1, 1, 1, 0, 0, 0, 0, 1, 0, 0, 0, 1, 1, 0, 0, 0, 1, 0], Set{AbstractStatistics}()), BasicPheno{Vector{Int64}, NumbersGame}(\"Organism\", [8, 5, 7, 5, 5, 2, 6, 1, 5, 3], Set{AbstractStatistics}()), Set{AbstractOutcome}(), Set{AbstractStatistics}())\n"
     ]
    }
   ],
   "source": [
    "cfg = (rng = StableRNG(123), subvector_width = 10, genome_width = 100)\n",
    "\n",
    "T = Vector{Bool}\n",
    "D = NumbersGame\n",
    "G = BasicGeno{T, D}\n",
    "\n",
    "T = Vector{Int}\n",
    "D = NumbersGame\n",
    "P = BasicPheno{T, D}\n",
    "\n",
    "org = BasicOrg{G, P}(\"Organism\", cfg)\n",
    "println(org)"
   ]
  },
  {
   "cell_type": "markdown",
   "id": "9ead471e-c18a-415d-9a66-6ca5f565c902",
   "metadata": {},
   "source": [
    "## BasicPop[1, 1, 2, 0, 2, 5, 3, 6, 0, 3]"
   ]
  },
  {
   "cell_type": "code",
   "execution_count": 12,
   "id": "4394a690-ffae-4e2c-b23b-ee0906df605e",
   "metadata": {
    "tags": []
   },
   "outputs": [],
   "source": [
    "struct BasicPop{O <: AbstractOrganism} <: AbstractPopulation{O}\n",
    "    key::String\n",
    "    orgs::Set{O}\n",
    "    stats::Set{AbstractStatistics}\n",
    "    BasicPop{O}(key, orgs) where {O <: AbstractOrganism} = new{O}(key, orgs, Set())\n",
    "end\n",
    "\n",
    "function BasicPop{O}(key::String, n_orgs::Int, cfg::NamedTuple) where {O <: AbstractOrganism}\n",
    "    orgs = Set{O}()\n",
    "    for i in 1:n_orgs\n",
    "        orgkey = join([key, i], KEY_SPLIT_TOKEN)  \n",
    "        org = O(orgkey, cfg)\n",
    "        push!(orgs, org)\n",
    "    end\n",
    "    BasicPop{O}(key, orgs)\n",
    "end\n",
    "\n",
    "function BasicPop{O}(key::String, cfg::NamedTuple) where {O <: AbstractOrganism}\n",
    "    BasicPop{O}(key, cfg.n_orgs, cfg)\n",
    "end"
   ]
  },
  {
   "cell_type": "code",
   "execution_count": 13,
   "id": "62581625-bb9c-4f31-b10a-0c872e55faac",
   "metadata": {
    "tags": []
   },
   "outputs": [
    {
     "name": "stdout",
     "output_type": "stream",
     "text": [
      "BasicPop{BasicOrg{BasicGeno{Vector{Bool}, NumbersGame}, BasicPheno{Vector{Int64}, NumbersGame}}}(\"test\", Set(BasicOrg{BasicGeno{Vector{Bool}, NumbersGame}, BasicPheno{Vector{Int64}, NumbersGame}}[BasicOrg{BasicGeno{Vector{Bool}, NumbersGame}, BasicPheno{Vector{Int64}, NumbersGame}}(\"test-6\", BasicGeno{Vector{Bool}, NumbersGame}(\"test-6\", Bool[0, 0, 1, 1, 0, 1, 0, 0, 0, 1, 1, 0, 1, 1, 0, 0, 1, 1, 1, 1, 0, 1, 1, 1, 0, 1, 0, 0, 1, 1, 0, 0, 1, 1, 1, 1, 0, 1, 1, 1, 0, 0, 0, 0, 0, 0, 0, 1, 1, 1, 1, 0, 1, 1, 0, 0, 0, 0, 1, 0, 1, 1, 1, 1, 0, 0, 1, 0, 0, 1, 0, 1, 1, 1, 0, 1, 1, 0, 0, 1, 1, 0, 1, 1, 1, 0, 0, 0, 0, 1, 0, 1, 0, 1, 0, 0, 1, 0, 0, 1], Set{AbstractStatistics}()), BasicPheno{Vector{Int64}, NumbersGame}(\"test-6\", [4, 7, 6, 7, 3, 4, 6, 6, 5, 4], Set{AbstractStatistics}()), Set{AbstractOutcome}(), Set{AbstractStatistics}()), BasicOrg{BasicGeno{Vector{Bool}, NumbersGame}, BasicPheno{Vector{Int64}, NumbersGame}}(\"test-7\", BasicGeno{Vector{Bool}, NumbersGame}(\"test-7\", Bool[1, 0, 0, 0, 1, 1, 1, 1, 1, 0, 1, 1, 0, 0, 1, 1, 0, 0, 0, 0, 1, 1, 0, 1, 0, 1, 0, 1, 0, 1, 1, 1, 0, 1, 0, 1, 1, 0, 0, 0, 0, 1, 0, 1, 0, 1, 1, 1, 1, 0, 1, 0, 1, 0, 0, 1, 1, 1, 0, 0, 1, 1, 1, 0, 1, 0, 0, 1, 0, 1, 1, 1, 0, 0, 1, 0, 0, 0, 1, 1, 1, 0, 1, 0, 1, 0, 0, 1, 1, 0, 0, 0, 0, 0, 1, 0, 1, 0, 0, 1], Set{AbstractStatistics}()), BasicPheno{Vector{Int64}, NumbersGame}(\"test-7\", [6, 4, 6, 5, 6, 5, 6, 5, 5, 3], Set{AbstractStatistics}()), Set{AbstractOutcome}(), Set{AbstractStatistics}()), BasicOrg{BasicGeno{Vector{Bool}, NumbersGame}, BasicPheno{Vector{Int64}, NumbersGame}}(\"test-2\", BasicGeno{Vector{Bool}, NumbersGame}(\"test-2\", Bool[1, 1, 1, 1, 0, 1, 1, 0, 0, 1, 0, 0, 1, 1, 1, 1, 0, 1, 0, 1, 0, 1, 0, 0, 1, 1, 0, 0, 1, 1, 1, 0, 1, 0, 1, 1, 0, 0, 1, 0, 0, 0, 1, 0, 1, 0, 0, 0, 0, 1, 1, 0, 1, 1, 1, 1, 0, 0, 1, 1, 0, 0, 1, 1, 0, 1, 0, 0, 0, 0, 1, 1, 0, 1, 1, 1, 1, 1, 0, 0, 1, 0, 1, 0, 0, 1, 1, 0, 1, 0, 0, 0, 0, 1, 0, 1, 1, 1, 1, 1], Set{AbstractStatistics}()), BasicPheno{Vector{Int64}, NumbersGame}(\"test-2\", [7, 6, 5, 5, 3, 7, 3, 7, 5, 6], Set{AbstractStatistics}()), Set{AbstractOutcome}(), Set{AbstractStatistics}()), BasicOrg{BasicGeno{Vector{Bool}, NumbersGame}, BasicPheno{Vector{Int64}, NumbersGame}}(\"test-1\", BasicGeno{Vector{Bool}, NumbersGame}(\"test-1\", Bool[1, 0, 1, 1, 1, 1, 0, 1, 1, 1, 1, 1, 1, 1, 0, 0, 0, 0, 0, 1, 1, 0, 1, 1, 0, 1, 1, 1, 1, 0, 1, 1, 1, 1, 1, 0, 0, 0, 0, 0, 0, 1, 1, 1, 1, 0, 0, 0, 0, 1, 0, 0, 1, 0, 0, 0, 1, 0, 0, 0, 1, 1, 1, 1, 1, 0, 0, 0, 1, 0, 0, 0, 0, 0, 0, 0, 0, 0, 0, 1, 0, 1, 1, 1, 1, 0, 0, 0, 0, 1, 0, 0, 0, 1, 1, 0, 0, 0, 1, 0], Set{AbstractStatistics}()), BasicPheno{Vector{Int64}, NumbersGame}(\"test-1\", [8, 5, 7, 5, 5, 2, 6, 1, 5, 3], Set{AbstractStatistics}()), Set{AbstractOutcome}(), Set{AbstractStatistics}()), BasicOrg{BasicGeno{Vector{Bool}, NumbersGame}, BasicPheno{Vector{Int64}, NumbersGame}}(\"test-3\", BasicGeno{Vector{Bool}, NumbersGame}(\"test-3\", Bool[0, 0, 0, 0, 0, 0, 0, 0, 0, 0, 0, 0, 1, 1, 0, 1, 1, 0, 0, 1, 0, 1, 0, 0, 0, 1, 0, 0, 1, 0, 0, 0, 0, 0, 0, 0, 1, 1, 1, 1, 1, 1, 0, 1, 0, 1, 0, 1, 0, 1, 1, 0, 1, 0, 1, 1, 1, 1, 0, 1, 1, 0, 1, 0, 1, 0, 0, 0, 1, 1, 0, 1, 0, 1, 1, 1, 1, 0, 1, 1, 0, 0, 0, 0, 1, 0, 1, 0, 1, 0, 1, 1, 1, 0, 0, 1, 1, 1, 0, 0], Set{AbstractStatistics}()), BasicPheno{Vector{Int64}, NumbersGame}(\"test-3\", [0, 5, 3, 4, 6, 7, 5, 7, 3, 6], Set{AbstractStatistics}()), Set{AbstractOutcome}(), Set{AbstractStatistics}()), BasicOrg{BasicGeno{Vector{Bool}, NumbersGame}, BasicPheno{Vector{Int64}, NumbersGame}}(\"test-8\", BasicGeno{Vector{Bool}, NumbersGame}(\"test-8\", Bool[0, 1, 1, 0, 1, 1, 0, 1, 0, 0, 1, 0, 0, 1, 1, 0, 1, 1, 0, 1, 1, 1, 0, 1, 1, 0, 1, 0, 0, 0, 0, 0, 1, 0, 1, 0, 1, 0, 1, 0, 0, 1, 0, 0, 1, 0, 1, 1, 1, 1, 0, 1, 0, 1, 0, 1, 1, 1, 0, 1, 1, 0, 0, 1, 1, 1, 0, 1, 1, 1, 0, 1, 0, 1, 1, 0, 1, 1, 1, 0, 1, 1, 1, 0, 1, 1, 1, 1, 1, 1, 1, 1, 0, 0, 1, 1, 0, 1, 0, 0], Set{AbstractStatistics}()), BasicPheno{Vector{Int64}, NumbersGame}(\"test-8\", [5, 6, 5, 4, 6, 6, 7, 6, 9, 5], Set{AbstractStatistics}()), Set{AbstractOutcome}(), Set{AbstractStatistics}()), BasicOrg{BasicGeno{Vector{Bool}, NumbersGame}, BasicPheno{Vector{Int64}, NumbersGame}}(\"test-9\", BasicGeno{Vector{Bool}, NumbersGame}(\"test-9\", Bool[1, 1, 0, 1, 0, 1, 1, 1, 0, 0, 0, 0, 1, 1, 0, 0, 0, 1, 0, 0, 1, 1, 1, 1, 1, 1, 0, 1, 0, 0, 0, 1, 0, 1, 1, 0, 0, 1, 1, 0, 0, 0, 0, 0, 0, 1, 0, 0, 1, 0, 1, 1, 0, 0, 1, 1, 1, 0, 0, 0, 0, 1, 0, 0, 1, 0, 0, 0, 1, 1, 0, 1, 1, 1, 0, 1, 0, 1, 0, 1, 0, 1, 1, 1, 0, 0, 1, 0, 0, 1, 1, 0, 1, 1, 0, 1, 1, 0, 0, 1], Set{AbstractStatistics}()), BasicPheno{Vector{Int64}, NumbersGame}(\"test-9\", [6, 3, 7, 5, 2, 5, 4, 6, 5, 6], Set{AbstractStatistics}()), Set{AbstractOutcome}(), Set{AbstractStatistics}()), BasicOrg{BasicGeno{Vector{Bool}, NumbersGame}, BasicPheno{Vector{Int64}, NumbersGame}}(\"test-10\", BasicGeno{Vector{Bool}, NumbersGame}(\"test-10\", Bool[1, 0, 0, 0, 0, 1, 0, 1, 0, 1, 0, 0, 1, 1, 1, 1, 0, 1, 1, 0, 1, 1, 0, 0, 0, 0, 0, 0, 1, 0, 0, 1, 0, 1, 1, 1, 0, 0, 1, 0, 1, 0, 1, 1, 0, 0, 1, 1, 1, 0, 1, 1, 1, 1, 0, 1, 0, 0, 0, 1, 1, 1, 0, 0, 1, 0, 0, 1, 1, 0, 1, 1, 1, 1, 0, 0, 1, 0, 1, 0, 1, 0, 1, 1, 0, 0, 1, 1, 0, 0, 1, 0, 0, 1, 1, 1, 1, 1, 0, 1], Set{AbstractStatistics}()), BasicPheno{Vector{Int64}, NumbersGame}(\"test-10\", [4, 6, 3, 5, 6, 6, 5, 6, 5, 7], Set{AbstractStatistics}()), Set{AbstractOutcome}(), Set{AbstractStatistics}()), BasicOrg{BasicGeno{Vector{Bool}, NumbersGame}, BasicPheno{Vector{Int64}, NumbersGame}}(\"test-4\", BasicGeno{Vector{Bool}, NumbersGame}(\"test-4\", Bool[0, 0, 1, 0, 0, 1, 0, 1, 0, 1, 1, 0, 1, 1, 0, 1, 1, 1, 1, 0, 1, 0, 0, 1, 0, 1, 0, 0, 0, 0, 1, 0, 1, 1, 0, 0, 1, 0, 0, 1, 1, 0, 0, 1, 1, 0, 1, 1, 1, 0, 0, 1, 0, 0, 0, 1, 1, 0, 1, 0, 0, 1, 0, 0, 0, 1, 1, 0, 1, 0, 0, 0, 0, 1, 1, 0, 1, 1, 1, 0, 0, 0, 1, 1, 0, 1, 0, 1, 0, 0, 0, 1, 1, 1, 0, 0, 1, 0, 1, 0], Set{AbstractStatistics}()), BasicPheno{Vector{Int64}, NumbersGame}(\"test-4\", [4, 7, 3, 5, 6, 4, 4, 5, 4, 5], Set{AbstractStatistics}()), Set{AbstractOutcome}(), Set{AbstractStatistics}()), BasicOrg{BasicGeno{Vector{Bool}, NumbersGame}, BasicPheno{Vector{Int64}, NumbersGame}}(\"test-5\", BasicGeno{Vector{Bool}, NumbersGame}(\"test-5\", Bool[0, 0, 0, 0, 1, 0, 1, 0, 0, 1, 0, 1, 0, 0, 0, 0, 1, 1, 1, 1, 1, 1, 1, 0, 1, 0, 1, 0, 0, 0, 0, 1, 0, 0, 1, 1, 1, 1, 0, 1, 0, 0, 1, 1, 0, 1, 0, 1, 0, 0, 1, 0, 1, 1, 0, 0, 1, 0, 0, 1, 0, 1, 0, 0, 0, 0, 1, 1, 0, 1, 0, 1, 0, 1, 1, 1, 0, 0, 1, 1, 0, 0, 0, 0, 1, 0, 1, 1, 0, 0, 1, 1, 1, 0, 0, 0, 1, 0, 1, 1], Set{AbstractStatistics}()), BasicPheno{Vector{Int64}, NumbersGame}(\"test-5\", [3, 5, 5, 6, 4, 5, 4, 6, 3, 6], Set{AbstractStatistics}()), Set{AbstractOutcome}(), Set{AbstractStatistics}())]), Set{AbstractStatistics}())\n"
     ]
    }
   ],
   "source": [
    "cfg = (rng = StableRNG(123), subvector_width = 10, genome_width = 100, n_orgs = 10)\n",
    "T = Vector{Bool}\n",
    "D = NumbersGame\n",
    "G = BasicGeno{T, D}\n",
    "\n",
    "T = Vector{Int}\n",
    "D = NumbersGame\n",
    "P = BasicPheno{T, D}\n",
    "\n",
    "O = BasicOrg{G, P}\n",
    "\n",
    "pop = BasicPop{O}(\"test\", cfg)\n",
    "println(pop)"
   ]
  },
  {
   "cell_type": "markdown",
   "id": "7a6d4d0d-7b6a-4704-946d-3113f74b877b",
   "metadata": {},
   "source": [
    "## PairMix and PairOutcome"
   ]
  },
  {
   "cell_type": "code",
   "execution_count": 14,
   "id": "3544c211-9048-47c8-b7bf-8baacc79f072",
   "metadata": {},
   "outputs": [],
   "source": [
    "struct PairMix{T, D <: AbstractDomain} <: AbstractMix{T, D}\n",
    "    subject::T\n",
    "    test::T\n",
    "end\n",
    "\n",
    "function PairMix{String, D}(subject::AbstractOrganism, test::AbstractOrganism) where {D <: AbstractDomain}\n",
    "    PairMix{String, D}(subject.key, test.key)\n",
    "end\n",
    "\n",
    "function PairMix{P, D}(subject::AbstractOrganism, test::AbstractOrganism) where {P <: AbstractPhenotype, D <: AbstractDomain}\n",
    "    PairMix{P, D}(subject.pheno, test.pheno)\n",
    "end"
   ]
  },
  {
   "cell_type": "code",
   "execution_count": 19,
   "id": "e417c6cb-362a-4c34-998e-f68044bcd71a",
   "metadata": {},
   "outputs": [
    {
     "data": {
      "text/plain": [
       "PairOutcome"
      ]
     },
     "execution_count": 19,
     "metadata": {},
     "output_type": "execute_result"
    }
   ],
   "source": [
    "struct PairOutcome{T <: Real} <: AbstractOutcome\n",
    "    solution::Key\n",
    "    test::Key\n",
    "    score::T\n",
    "end\n",
    "\n",
    "function PairOutcome(mix::PairMix{T, D}, cfg::NamedTuple) where {T <: AbstractPhenotype, D <: AbstractDomain}\n",
    "    PairOutcome(mix.subject, mix.test, D(cfg))\n",
    "end\n",
    "\n",
    "function PairOutcome(subject::BasicPheno{Int}, test::BasicPheno{Int}, domain::NGGradient)\n",
    "    PairOutcome(subject.key, test.key, subject.traits > test.traits)\n",
    "end\n",
    "\n",
    "function PairOutcome(subject::BasicPheno{Vector{Int}}, test::BasicPheno{Vector{Int}}, domain::NGGradient)\n",
    "    PairOutcome(subject.key, test.key, sum(subject.traits) > sum(test.traits))\n",
    "end\n",
    "\n",
    "function PairOutcome(subject::BasicPheno{Vector{Int}}, test::BasicPheno{Vector{Int}}, domain::NGFocusing)\n",
    "    v1, v2 = subject.traits, test.traits\n",
    "    maxdiff, idx = findmax([abs(x1 - x2) for (x1, x2) in zip(v1, v2)])\n",
    "    PairOutcome(subject.key, test.key, v1[idx] > v2[idx])\n",
    "end\n",
    "\n",
    "function PairOutcome(subject::BasicPheno{Vector{Int}}, test::BasicPheno{Vector{Int}}, domain::NGRelativism)\n",
    "    v1, v2 = subject.traits, test.traits\n",
    "    mindiff, idx = findmin([abs(x1 - x2) for (x1, x2) in zip(v1, v2)])\n",
    "    PairOutcome(subject.key, test.key, v1[idx] > v2[idx])\n",
    "end"
   ]
  },
  {
   "cell_type": "code",
   "execution_count": 20,
   "id": "7f58b51f-6925-4206-b89d-382a4d9b7f9a",
   "metadata": {
    "tags": []
   },
   "outputs": [
    {
     "data": {
      "text/plain": [
       "PairOutcome{Bool}(\"org1\", \"org2\", false)"
      ]
     },
     "execution_count": 20,
     "metadata": {},
     "output_type": "execute_result"
    }
   ],
   "source": [
    "cfg = (rng = StableRNG(123), subvector_width = 10, genome_width = 100, n_orgs = 10)\n",
    "T = Vector{Bool}\n",
    "D = NumbersGame\n",
    "G = BasicGeno{T, D}\n",
    "\n",
    "T = Int\n",
    "D = NumbersGame\n",
    "P = BasicPheno{T, D}\n",
    "\n",
    "O = BasicOrg{G, P}\n",
    "org1 = O(\"org1\", cfg)\n",
    "org2 = O(\"org2\", cfg)\n",
    "\n",
    "D = NGGradient\n",
    "phenomix = PairMix{BasicPheno, NGGradient}(org1, org2)\n",
    "PairOutcome(phenomix, cfg)"
   ]
  },
  {
   "cell_type": "code",
   "execution_count": 91,
   "id": "50406365-59ba-44e2-ab60-52647b876781",
   "metadata": {},
   "outputs": [
    {
     "data": {
      "text/plain": [
       "run_mixdemo (generic function with 1 method)"
      ]
     },
     "execution_count": 91,
     "metadata": {},
     "output_type": "execute_result"
    }
   ],
   "source": [
    "function run_mixdemo(cfg::NamedTuple)\n",
    "    T = Vector{Bool}\n",
    "    D = NumbersGame\n",
    "    G = BasicGeno{T, D}\n",
    "\n",
    "    T = Vector{Int}\n",
    "    D = NumbersGame\n",
    "    P = BasicPheno{T, D}\n",
    "\n",
    "    O = BasicOrg{G, P}\n",
    "\n",
    "    org1, org2 = O(\"org1\", cfg), O(\"org2\", cfg)\n",
    "    t1, t2 = org1.pheno.traits, org2.pheno.traits\n",
    "    println(\"$(t1), sum = $(sum(t1))\")\n",
    "    println(\"$(t2), sum = $(sum(t2))\")\n",
    "\n",
    "    for D in subtypes(NumbersGame)\n",
    "        phenomix = PairMix{BasicPheno}(org1, org2, D())\n",
    "        o = PairOutcome(phenomix)\n",
    "        println(D, \" - \", o.score)\n",
    "    end\n",
    "end"
   ]
  },
  {
   "cell_type": "code",
   "execution_count": 92,
   "id": "a744cd81-594b-4f7f-aaf6-2c91a15a5669",
   "metadata": {},
   "outputs": [
    {
     "name": "stdout",
     "output_type": "stream",
     "text": [
      "[8, 5, 7, 5, 5, 2, 6, 1, 5, 3], sum = 47\n",
      "[7, 6, 5, 5, 3, 7, 3, 7, 5, 6], sum = 54\n",
      "NGFocusing - false\n",
      "NGGradient - false\n",
      "NGRelativism - false\n"
     ]
    }
   ],
   "source": [
    "cfg = (rng = StableRNG(123), subvector_width = 10, genome_width = 100, n_orgs = 10)\n",
    "run_mixdemo(cfg)"
   ]
  },
  {
   "cell_type": "code",
   "execution_count": 74,
   "id": "73186f8b-6425-4769-bf43-f1b34ee8a53b",
   "metadata": {},
   "outputs": [
    {
     "name": "stdout",
     "output_type": "stream",
     "text": [
      "[3, 7, 6, 4, 6, 3, 5, 2, 8, 7], sum = 51\n",
      "[2, 8, 4, 6, 5, 7, 5, 5, 3, 6], sum = 51\n",
      "NGFocusing - true\n",
      "NGGradient - false\n",
      "NGRelativism - false\n"
     ]
    }
   ],
   "source": [
    "cfg = (rng = StableRNG(42), subvector_width = 10, genome_width = 100, n_orgs = 10)\n",
    "run_mixdemo(cfg)"
   ]
  },
  {
   "cell_type": "code",
   "execution_count": 75,
   "id": "8db90c21-a925-4594-a19a-ea93dd8026eb",
   "metadata": {},
   "outputs": [
    {
     "name": "stdout",
     "output_type": "stream",
     "text": [
      "[5, 5, 7, 6, 4, 4, 5, 3, 6, 6], sum = 51\n",
      "[3, 6, 7, 2, 5, 3, 5, 4, 6, 5], sum = 46\n",
      "NGFocusing - true\n",
      "NGGradient - true\n",
      "NGRelativism - false\n"
     ]
    }
   ],
   "source": [
    "cfg = (rng = StableRNG(67), subvector_width = 10, genome_width = 100, n_orgs = 10)\n",
    "run_mixdemo(cfg)\n"
   ]
  },
  {
   "cell_type": "code",
   "execution_count": 76,
   "id": "997c0b03-377e-4e6c-8f57-c77bbacd6898",
   "metadata": {},
   "outputs": [
    {
     "name": "stdout",
     "output_type": "stream",
     "text": [
      "[4, 4, 8, 6, 4, 2, 6, 5, 7, 3], sum = 49\n",
      "[9, 3, 1, 7, 5, 3, 5, 3, 8, 7], sum = 51\n",
      "NGFocusing - true\n",
      "NGGradient - false\n",
      "NGRelativism - true\n"
     ]
    }
   ],
   "source": [
    "cfg = (rng = StableRNG(335), subvector_width = 10, genome_width = 100, n_orgs = 10)\n",
    "run_mixdemo(cfg)\n"
   ]
  },
  {
   "cell_type": "code",
   "execution_count": 80,
   "id": "7cb4f336-2fe3-4795-95d2-d956d18c9e9f",
   "metadata": {},
   "outputs": [
    {
     "data": {
      "text/plain": [
       "Dict{Int64, Vector{Bool}} with 5 entries:\n",
       "  5 => [0]\n",
       "  4 => [0]\n",
       "  7 => [1]\n",
       "  2 => [1]\n",
       "  1 => [1, 0, 0, 0, 1, 0]"
      ]
     },
     "execution_count": 80,
     "metadata": {},
     "output_type": "execute_result"
    }
   ],
   "source": [
    "v1 = [4, 4, 8, 6, 4, 2, 6, 5, 7, 3]\n",
    "v2 = [9, 3, 1, 7, 5, 3, 5, 3, 8, 7]\n",
    "\n",
    "\n",
    "d = Dict{Int, Vector{Bool}}()\n",
    "\n",
    "\n",
    "for (diff, gt) in [(abs(x1 - x2), x1 > x2) for (x1, x2) in zip(v1, v2)]\n",
    "    if haskey(d, diff)\n",
    "        push!(d[diff], gt)\n",
    "    else\n",
    "        d[diff] = Bool[gt]\n",
    "    end\n",
    "end\n",
    "d\n"
   ]
  },
  {
   "cell_type": "markdown",
   "id": "e1a7c93d-7d6f-4571-9504-e0601b67c114",
   "metadata": {},
   "source": [
    "## Interaction"
   ]
  },
  {
   "cell_type": "code",
   "execution_count": 16,
   "id": "2dcf79b3-4cbb-465e-9894-43bef6309194",
   "metadata": {},
   "outputs": [
    {
     "data": {
      "text/plain": [
       "true"
      ]
     },
     "execution_count": 16,
     "metadata": {},
     "output_type": "execute_result"
    }
   ],
   "source": [
    "typeof(NGGradient()) <: AbstractDomain"
   ]
  },
  {
   "cell_type": "code",
   "execution_count": 26,
   "id": "4ed53ddd-7c72-4656-9baa-e342a74e5af7",
   "metadata": {},
   "outputs": [
    {
     "data": {
      "text/plain": [
       "PairMix"
      ]
     },
     "execution_count": 26,
     "metadata": {},
     "output_type": "execute_result"
    }
   ],
   "source": [
    "function Dict{String, AbstractPhenotype}(pop::AbstractPopulation)\n",
    "    d = Dict{String, AbstractPhenotype}()\n",
    "    for org in pop.orgs\n",
    "        d[org.key] = org.pheno\n",
    "    end\n",
    "    d\n",
    "end\n",
    "\n",
    "function Dict{String, AbstractPhenotype}(coev::AbstractCoevolution)\n",
    "    d = Dict{String, AbstractPhenotype}()\n",
    "    for pop in pops\n",
    "        popd = Dict{String, AbstractPhenotype}(pop)\n",
    "        merge!(d, popd)\n",
    "    end\n",
    "    d\n",
    "end\n",
    "\n",
    "function Dict{String, AbstractPhenotype}(coev::AbstractCoevolution)\n",
    "    Dict{String, AbstractPhenotype}(coev.pops)\n",
    "end\n",
    "\n",
    "\n",
    "function PairMix{String, D}(o1::AbstractOrganism, o2::AbstractOrganism) where {D <: AbstractDomain}\n",
    "    PairMix{String, D}(o1.key, o2.key)\n",
    "end\n",
    "\n",
    "function PairMix(mix::PairMix{String, D}, phenos::Dict{String, P}) where {P <: AbstractPhenotype, D <: AbstractDomain}\n",
    "    PairMix{P, D}(phenos[mix.solution], phenos[mix.test])\n",
    "end"
   ]
  },
  {
   "cell_type": "code",
   "execution_count": 28,
   "id": "c02266cd-4202-4b42-b745-3c73f89a940c",
   "metadata": {},
   "outputs": [
    {
     "data": {
      "text/plain": [
       "PairMix{String, NGGradient}(\"test1-5\", \"test2-1\")"
      ]
     },
     "execution_count": 28,
     "metadata": {},
     "output_type": "execute_result"
    }
   ],
   "source": [
    "cfg = (rng = StableRNG(123), subvector_width = 10, genome_width = 100, n_orgs = 10)\n",
    "T = Vector{Bool}\n",
    "D = NumbersGame\n",
    "G = BasicGeno{T, D}\n",
    "\n",
    "T = Vector{Int}\n",
    "D = NumbersGame\n",
    "P = BasicPheno{T, D}\n",
    "\n",
    "O = BasicOrg{G, P}\n",
    "\n",
    "pop1 = BasicPop{O}(\"test1\", cfg)\n",
    "d1 = Dict{String, AbstractPhenotype}(pop1)\n",
    "pop2 = BasicPop{O}(\"test2\", cfg)\n",
    "d2 = Dict{String, AbstractPhenotype}(pop2)\n",
    "\n",
    "o1 = rand(cfg.rng, pop1.orgs)\n",
    "o2 = rand(cfg.rng, pop2.orgs)\n",
    "\n",
    "PairMix{String, NGGradient}(o1, o2)\n"
   ]
  },
  {
   "cell_type": "code",
   "execution_count": null,
   "id": "5b826ea7-8e66-4ce5-92e5-efbdf290e951",
   "metadata": {},
   "outputs": [],
   "source": [
    "struct SampleRecipe <: AbstractRecipe\n",
    "    rng::AbstractRNG\n",
    "    n_samples::Int\n",
    "end\n",
    "\n",
    "function SampleRecipe(cfg::NamedTuple)\n",
    "    SampleRecipe(cfg.rng, cfg.n_samples)\n",
    "end"
   ]
  },
  {
   "cell_type": "code",
   "execution_count": null,
   "id": "acca186e-8867-4155-bc70-347b5489c005",
   "metadata": {},
   "outputs": [],
   "source": [
    "function test(x, R::Type) \n",
    "    print(typeof(R))\n",
    "    print(R <: Real)\n",
    "    R(x) \n",
    "end \n",
    "test(5, Float64)"
   ]
  },
  {
   "cell_type": "code",
   "execution_count": null,
   "id": "520e4b6f-e1c5-459b-98e5-a82a0fe276aa",
   "metadata": {},
   "outputs": [],
   "source": [
    "function Set{PairMix{String, D}}(pop1::AbstractPopulation, pop2::AbstractPopulation, recipe::SampleRecipe) where {D <: AbstractDomain}\n",
    "    mixes = Set{PairMix{String, D}}()\n",
    "    for o1 in pop1.orgs\n",
    "        for o2 in sample(recipe.rng, collect(pop2.orgs), recipe.n_samples, replace=false)\n",
    "            mix = PairMix{String, D}(o1, o2)\n",
    "            push!(mixes, mix)\n",
    "        end\n",
    "    end\n",
    "    mixes\n",
    "end\n",
    "\n",
    "function Set{PairMix{String, D}}(pops::Set{AbstractPopulation}, recipe::AbstractRecipe) where {D <: AbstractDomain}\n",
    "    if length(pops) != 2\n",
    "        error(\"Invalid number of populations for PairMix type.\")\n",
    "    end\n",
    "    pop1, pop2 = pops\n",
    "    Set{PairMix{String, D}}(pop1, pop2, domain, recipe)\n",
    "end"
   ]
  },
  {
   "cell_type": "markdown",
   "id": "58fafc7a-ebd3-46f0-8470-3b12fc334b3d",
   "metadata": {},
   "source": [
    "## PairMix"
   ]
  },
  {
   "cell_type": "code",
   "execution_count": null,
   "id": "a0a79427-6b7b-45c3-982d-a541b05e1d82",
   "metadata": {},
   "outputs": [],
   "source": []
  },
  {
   "cell_type": "code",
   "execution_count": null,
   "id": "2ca65ca1-3f4e-4064-a124-bba385708734",
   "metadata": {},
   "outputs": [],
   "source": [
    "function Set{String}(mix::M) where {M <: AbstractMix}\n",
    "    Set([getfield(mix, fn) for fn in fieldnames(M)])\n",
    "end\n",
    "\n",
    "function Set{String}(mixes::Set{M}) where {M <: AbstractMix}\n",
    "    union([Set{String}(mix) for mix in mixes]...)\n",
    "end"
   ]
  },
  {
   "cell_type": "code",
   "execution_count": null,
   "id": "1e8d9fde-5fd7-445e-81a6-357a1e069df6",
   "metadata": {},
   "outputs": [],
   "source": [
    "string_mixes = Set{String}(coev.mixer.mixes)"
   ]
  },
  {
   "cell_type": "code",
   "execution_count": null,
   "id": "0ceb773e-cc87-419b-a86b-b6a8c3d50715",
   "metadata": {},
   "outputs": [],
   "source": [
    "function divvy(rng::AbstractRNG, n::Int, mixes::Set{M}) where {M <: AbstractMix}\n",
    "    n_mix = div(length(mixes), n)\n",
    "    alljobmixes = Set{M}[]\n",
    "    for _ in 1:n\n",
    "        jobmixes = Set(sample(rng, collect(mixes), n_mix, replace=false))\n",
    "        mixes = setdiff(mixes, jobmixes)\n",
    "        push!(alljobmixes, jobmixes)\n",
    "    end\n",
    "    for leftover in mixes\n",
    "        push!(rand(rng, alljobmixes), leftover)\n",
    "    end\n",
    "    Set(alljobmixes)\n",
    "end\n",
    "    "
   ]
  },
  {
   "cell_type": "code",
   "execution_count": null,
   "id": "2267c93f-43e1-44cc-92da-73b3b4a94e0a",
   "metadata": {},
   "outputs": [],
   "source": [
    "rng = StableRNG(123)\n",
    "rand(divvy(rng, 10, coev.mixer.mixes))"
   ]
  },
  {
   "cell_type": "code",
   "execution_count": null,
   "id": "b650c273-ecf3-4704-925e-7d86a26121ff",
   "metadata": {},
   "outputs": [],
   "source": [
    "divvy(rng, 10, coev.mixer)"
   ]
  },
  {
   "cell_type": "code",
   "execution_count": null,
   "id": "9e881b7d-b4f6-458e-be4d-7ce75392269e",
   "metadata": {},
   "outputs": [],
   "source": [
    "function divvy(rng::AbstractRNG, n::Int, mixer::M) where {M <: AbstractMixer}\n",
    "    mixes = copy(mixer.mixes)\n",
    "    phenos = Dict{String, AbstractPhenotype}(phenos)\n",
    "    n_mix = div(length(mixes), n)\n",
    "    alljobmixes = divvy(rng, n, mixes)\n",
    "    jobmixers = Set{M}()\n",
    "    for jobmixes in alljobmixes\n",
    "        phenokeys = Set{String}(jobmixes)   \n",
    "        jobphenos = Dict([key => phenos[key] for key in phenokeys])\n",
    "        jobmixer = M(jobmixes, jobphenos)\n",
    "        push!(jobmixers, jobmixer)\n",
    "    end\n",
    "    jobmixers\n",
    "end\n",
    "\n",
    "function divvy(rng::AbstractRNG)"
   ]
  },
  {
   "cell_type": "code",
   "execution_count": null,
   "id": "1ac86115-633d-435f-ab33-64467f33d5f2",
   "metadata": {},
   "outputs": [],
   "source": [
    "struct NG1 <: AbstractDomain end\n",
    "struct NG2 <: AbstractDomain end\n",
    "struct NG3 <: AbstractDomain end\n"
   ]
  },
  {
   "cell_type": "code",
   "execution_count": null,
   "id": "259b0715-9046-433a-b44e-4c0fd97b936b",
   "metadata": {},
   "outputs": [],
   "source": [
    "struct BasicCoev{P <: AbstractPopulation, D <: AbstractDomain, R <: AbstractRecipe, M <: AbstractMix} <: AbstractCoevolution\n",
    "    gen::Int\n",
    "    pops::Set{P}\n",
    "    domain::D\n",
    "    recipe::R\n",
    "    mixes::Set{M}\n",
    "    stats::Set{AbstractStatistics}\n",
    "    BasicCoev{P, D, R, M}(gen, pops, domain, recipe, mixes) where {P <: AbstractPopulation, D <: AbstractDomain, R <: AbstractRecipe, M <: AbstractMix} = new{P, D, R, M}(gen, pops, domain, recipe, mixes, Set())\n",
    "end\n",
    "\n",
    "function BasicCoev{P, D, R, M}(cfg::NamedTuple) where {P <: AbstractPopulation, M <: AbstractMix,\n",
    "                                                       D <: AbstractDomain, R <: AbstractRecipe}\n",
    "    pops = Set([P(popkey, cfg) for popkey in popkeys])\n",
    "    BasicCoev{P, M}(1, pops, mixer)\n",
    "end\n",
    "function BasicCoev{P, D, R, M}(cfg::NamedTuple) where {P <: AbstractPopulation, M <: AbstractMix,\n",
    "                                                       D <: AbstractDomain, R <: AbstractRecipe}\n",
    "    pops = Set([P(popkey, cfg) for popkey in popkeys])\n",
    "    BasicCoev{P, M}(1, pops, mixer)\n",
    "end\n",
    "\n"
   ]
  },
  {
   "cell_type": "code",
   "execution_count": null,
   "id": "c03fbfeb-43ad-492b-8efd-4ffba58201d4",
   "metadata": {
    "tags": []
   },
   "outputs": [],
   "source": [
    "cfg = (width = 10, n_samples = 5, key = \"A\", n_orgs = 10, rng = StableRNG(123))\n",
    "\n",
    "# the genotype is a bitstring\n",
    "G = BasicGeno{Vector{Bool}}\n",
    "# the phenotype is the sum of the 1s in the genotype\n",
    "PH = BasicPheno{Int}\n",
    "# organism is built from these two types\n",
    "O = BasicOrg{G, PH}\n",
    "# population is built from these orabisms\n",
    "P = BasicPop{O}\n",
    "# the game/domain is the simple \"Greater Than\" game\n",
    "D = NumbersGame1\n",
    "# the mix comprises pairs of organisms fated to play the numbers game\n",
    "M = PairMix{D}\n",
    "# \n",
    "\n",
    "coev = BasicCoev{P, M}([\"A\", \"B\"], cfg)\n"
   ]
  },
  {
   "cell_type": "code",
   "execution_count": null,
   "id": "fc8cd090-ab4c-463c-bba3-73614ad0e06d",
   "metadata": {},
   "outputs": [],
   "source": [
    "coev.mixer.mixes"
   ]
  },
  {
   "cell_type": "code",
   "execution_count": null,
   "id": "6d083269-b543-4837-94b6-96c47c7d06c1",
   "metadata": {},
   "outputs": [],
   "source": [
    "phenos = Dict{String, AbstractPhenotype}(coev)\n",
    "mix = rand(coev.mixer.mixes)\n",
    "println(mix)\n",
    "pmix = PairMix(mix, phenos)"
   ]
  },
  {
   "cell_type": "code",
   "execution_count": null,
   "id": "4a339112-0318-4476-abc1-c4e765f6af55",
   "metadata": {},
   "outputs": [],
   "source": [
    "PairMix(\"A-6\", \"B-6\") == PairMix(\"A-6\", \"B-6\")"
   ]
  },
  {
   "cell_type": "code",
   "execution_count": null,
   "id": "64dc6a32-1c32-460d-973c-7747139678bf",
   "metadata": {},
   "outputs": [],
   "source": [
    "Set{String}(mix)"
   ]
  },
  {
   "cell_type": "code",
   "execution_count": null,
   "id": "6fa9986c-023f-43af-941f-9d006234bc29",
   "metadata": {},
   "outputs": [],
   "source": [
    "using Distributed\n",
    "nprocs()"
   ]
  },
  {
   "cell_type": "code",
   "execution_count": null,
   "id": "823e3ad5-638a-46b4-b120-41dd211b95ec",
   "metadata": {},
   "outputs": [],
   "source": [
    "function Dict{String, AbstractPhenotype}(pop::AbstractPopulation)\n",
    "    d = Dict{String, AbstractPhenotype}()\n",
    "    for org in pop.orgs\n",
    "        d[org.key] = org.pheno\n",
    "    end\n",
    "    d\n",
    "end\n",
    "\n",
    "function Dict{String, AbstractPhenotype}(coev::AbstractCoevolution)\n",
    "    d = Dict{String, AbstractPhenotype}()\n",
    "    for pop in coev.pops\n",
    "        popd = Dict{String, AbstractPhenotype}(pop)\n",
    "        merge!(d, popd)\n",
    "    end\n",
    "    d\n",
    "end\n",
    "\n",
    "Dict{String, AbstractPhenotype}(rand(coev.pops))\n",
    "Dict{String, AbstractPhenotype}(coev)"
   ]
  },
  {
   "cell_type": "code",
   "execution_count": null,
   "id": "3e9342b9-8f9e-4d6c-aaeb-c228e05943d0",
   "metadata": {},
   "outputs": [],
   "source": [
    "pmix"
   ]
  },
  {
   "cell_type": "code",
   "execution_count": null,
   "id": "b407c782-ee2a-4feb-8321-2ae398bec84e",
   "metadata": {},
   "outputs": [],
   "source": [
    "struct PairMixOutcome{T <: Real} <: AbstractOutcome\n",
    "    solution::Key\n",
    "    test::Key\n",
    "    score::T\n",
    "end"
   ]
  },
  {
   "cell_type": "code",
   "execution_count": null,
   "id": "b9277db0-717b-4aae-8c1b-92fc32cc92bf",
   "metadata": {},
   "outputs": [],
   "source": [
    "function stir(mix::PairMix{BasicPheno{Int}})\n",
    "    score = mix.solution.traits > mix.test.traits \n",
    "    PairMixOutcome(mix.solution.key, mix.test.key, score)\n",
    "end\n",
    "\n",
    "function stir(mixes::Set{M}, phenos::Dict{String, AbstractPhenotype}) where {M <: AbstractMix}\n",
    "    outcomes = Set{AbstractOutcome}()\n",
    "    for mix in mixes\n",
    "        mix = M(mix, phenos)\n",
    "        outcome = stir(mix)\n",
    "        push!(outcomes, outcome)\n",
    "    end\n",
    "    outcomes\n",
    "end\n",
    "\n",
    "function stir(mixer::AbstractMixer, phenos::Dict{String, AbstractPhenotype})\n",
    "    stir(mixer.mixes, phenos)\n",
    "end\n",
    "\n",
    "function stir(coev::AbstractCoevolution)\n",
    "    phenos = Dict{String, AbstractPhenotype}(coev)\n",
    "    stir(coev.mixer, phenos)\n",
    "end"
   ]
  },
  {
   "cell_type": "code",
   "execution_count": null,
   "id": "5d5f0b74-19df-4213-98c6-1c7e9f43252a",
   "metadata": {},
   "outputs": [],
   "source": [
    "stir(coev)"
   ]
  },
  {
   "cell_type": "code",
   "execution_count": null,
   "id": "1567ed72-c4ba-4a1a-9ac3-5f9b712e3674",
   "metadata": {},
   "outputs": [],
   "source": [
    "Set{Int} <: Set{Real}"
   ]
  },
  {
   "cell_type": "code",
   "execution_count": null,
   "id": "44a22bf0-9195-4f90-a1e5-f44039953fb1",
   "metadata": {},
   "outputs": [],
   "source": [
    "x = Set([1, 2, 3])\n",
    "for y in x\n",
    "    print(y)\n",
    "end"
   ]
  },
  {
   "cell_type": "code",
   "execution_count": null,
   "id": "64dc7849-76e6-4d1c-9154-32f295c6026f",
   "metadata": {},
   "outputs": [],
   "source": [
    " <: Real\n"
   ]
  },
  {
   "cell_type": "code",
   "execution_count": null,
   "id": "64cbb637-5c8f-4375-ae44-d3b20f9c7de6",
   "metadata": {},
   "outputs": [],
   "source": [
    "function addem(nums::Set{T}) where T <: Real\n",
    "    Set([num + 1 for num in nums])\n",
    "end\n",
    "addem(Set([1, 2, 3]))"
   ]
  },
  {
   "cell_type": "code",
   "execution_count": null,
   "id": "2b1f6644-f2de-4b56-98ce-8e5aaec16c0a",
   "metadata": {},
   "outputs": [],
   "source": [
    "setdiff(Set([1, 2, 3]), 1)"
   ]
  },
  {
   "cell_type": "code",
   "execution_count": null,
   "id": "1323b2ec-8d0e-4a7f-be3a-b7eb144d2ff0",
   "metadata": {},
   "outputs": [],
   "source": [
    "P <: AbstractPopulation"
   ]
  },
  {
   "cell_type": "code",
   "execution_count": null,
   "id": "3dd201a8-8054-4f36-9d40-16af7bd1788a",
   "metadata": {},
   "outputs": [],
   "source": [
    "StableRNGs.LehmerRNG <: AbstractRNG"
   ]
  },
  {
   "cell_type": "markdown",
   "id": "a6ba0314-73ce-4ae3-a90a-ede8d9a4a238",
   "metadata": {},
   "source": [
    "# Sample Numbers Game Population"
   ]
  },
  {
   "cell_type": "code",
   "execution_count": null,
   "id": "8d4d1431-89ea-4084-86a6-f07f2eeccd4e",
   "metadata": {},
   "outputs": [],
   "source": [
    "cfg = (width = 10, key = \"A\", n_orgs = 10, rng = StableRng(123))\n",
    "G = BasicGeno{Vector{Bool}}\n",
    "P = BasicPheno{Int}\n",
    "O = BasicOrg{G, P}\n",
    "org = O(cfg)\n",
    "P = \n",
    "pop = BasicPop{O}(cfg)"
   ]
  },
  {
   "cell_type": "code",
   "execution_count": null,
   "id": "0accb677-bfda-4aa1-a730-176b7b3b19fb",
   "metadata": {},
   "outputs": [],
   "source": [
    "cfg = (len_geno = 100, key = \"A\", n_orgs = 50)\n",
    "typeof(cfg)\n"
   ]
  },
  {
   "cell_type": "code",
   "execution_count": null,
   "id": "6c0b5292-a731-4775-ba1c-1842673fdf94",
   "metadata": {},
   "outputs": [],
   "source": [
    "typeof(org) <: AbstractOrganism"
   ]
  },
  {
   "cell_type": "code",
   "execution_count": null,
   "id": "f6297585-e255-457b-9af2-a8e662cd6368",
   "metadata": {},
   "outputs": [],
   "source": [
    "cfg = (len_geno = 100,)\n",
    "key = \"A\"\n",
    "\n",
    "geno = BasicGeno{Vector{Bool}}(key, cfg)\n",
    "pheno = NG1Pheno(geno)\n",
    "org = BasicOrg(key, geno, pheno)\n"
   ]
  },
  {
   "cell_type": "code",
   "execution_count": null,
   "id": "7d542735-3d17-4ded-a625-226e856ed75f",
   "metadata": {},
   "outputs": [],
   "source": []
  },
  {
   "cell_type": "code",
   "execution_count": null,
   "id": "ca0f487d-80d9-480d-a9cd-ca3a5456aeb0",
   "metadata": {},
   "outputs": [],
   "source": [
    "o = NG1Org(\"a\")"
   ]
  },
  {
   "cell_type": "code",
   "execution_count": null,
   "id": "db30b333-1550-4e66-81b9-4f8392b75cc0",
   "metadata": {},
   "outputs": [],
   "source": [
    "function BasicPop{BasicOrg}(cfg::NamedTuple)\n",
    "    \n",
    "end"
   ]
  },
  {
   "cell_type": "code",
   "execution_count": null,
   "id": "5acefbe8-fb4a-4dd8-9705-25faecb1d894",
   "metadata": {},
   "outputs": [],
   "source": [
    "pop = BasicPop{AbstractIndividual}(\"A\", Set())"
   ]
  },
  {
   "cell_type": "code",
   "execution_count": null,
   "id": "9630ae5f-c1ac-4263-b979-53f83e0b8fa4",
   "metadata": {},
   "outputs": [],
   "source": [
    "function seed(itype::Type, cfg::NamedTuple)\n",
    "    org = []\n",
    "    for i in 1:cfg.n_indiv\n",
    "        \n",
    "        \n",
    "    end\n",
    "end"
   ]
  },
  {
   "cell_type": "code",
   "execution_count": null,
   "id": "a05b5787-8a3a-49ff-8176-3562619578cf",
   "metadata": {},
   "outputs": [],
   "source": [
    "function BasicPop{I}(cfg::NamedTuple)\n",
    "    indivs = seed(I, cfg)\n",
    "    \n",
    "    \n",
    "end"
   ]
  },
  {
   "cell_type": "code",
   "execution_count": null,
   "id": "9452c4c5-7ee3-4935-b476-d066be0f661a",
   "metadata": {},
   "outputs": [],
   "source": []
  },
  {
   "cell_type": "code",
   "execution_count": null,
   "id": "5086767e-a1a2-4871-ae23-55d65905194c",
   "metadata": {},
   "outputs": [],
   "source": []
  },
  {
   "cell_type": "code",
   "execution_count": null,
   "id": "bea9f515-a204-4f14-a298-e5e885ca53a6",
   "metadata": {},
   "outputs": [],
   "source": []
  },
  {
   "cell_type": "code",
   "execution_count": null,
   "id": "3cdcbc95-2784-40bb-acd3-0b798c8fc5ae",
   "metadata": {},
   "outputs": [],
   "source": [
    "\n",
    "\n",
    "\n",
    "mutable struct NGCoev{E <: NGEntity, M <: NGMix, S <: AbstractStatistics} <: AbstractCoevolution\n",
    "    gen::Int\n",
    "    pops::Set{NGPop{E}}\n",
    "    mixes::Set{M}\n",
    "end\n",
    "\n",
    "\n",
    "\n",
    "function make_entities(n::Int, type::T, popkey::String) where T <: AbstractEntity\n",
    "    entities = Set{type}()\n",
    "    for i in 1:n\n",
    "        key = EntityKey(popkey, i)\n",
    "        e = T(key, i)\n",
    "        push!(entities, e)\n",
    "    end\n",
    "    entities\n",
    "end\n",
    "\n",
    "function crosswise_mix(pop1::AbstractPopulation, pop2::AbstractPopulation)\n",
    "    nothing\n",
    "end\n",
    "\n",
    "function sample_mix(n::Int, MixType::Type,\n",
    "                    subpop::AbstractPopulation,\n",
    "                    testpop::AbstractPopulation)\n",
    "    mixes = Set{MixType}()\n",
    "    for s in subpop.entities\n",
    "        tests = sample(collect(testpop.entities), n, replace=false)\n",
    "        for t in tests\n",
    "            push!(mixes, MixType(s, t))\n",
    "        end\n",
    "    end\n",
    "    mixes\n",
    "end\n",
    "\n",
    "\n",
    "function NG1Coev()\n",
    "    entitiesA = make_entities(25, NG1Entity, \"A\")\n",
    "    entitiesB = make_entities(25, NG1Entity, \"B\")\n",
    "    entities = union(entitiesA, entitiesB)\n",
    "\n",
    "    popA = NGPop(\"A\", entitiesA)\n",
    "    popB = NGPop(\"B\", entitiesB)\n",
    "    pops = union(popA, popB)\n",
    "\n",
    "    mixesA = sample_mix(15, NGMix, popA, popB)\n",
    "    mixesB = sample_mix(15, NGMix, popB, popA)\n",
    "    mixes = union(mixesA, mixesB)\n",
    "\n",
    "    NGCoev(1, entities, pops, mixes)\n",
    "end\n",
    "\n",
    "\n",
    "# function evolve(pop::NGPopulation)\n",
    "\n",
    "# end\n",
    "\n",
    "# function evolve(c::NGCoev)\n",
    "#     pops = [evolve(pop) for pop in c.pops]\n",
    "\n",
    "#     NGCoev\n",
    "# end"
   ]
  },
  {
   "cell_type": "code",
   "execution_count": null,
   "id": "5a9e174b-0f39-4991-a4a4-5c583c2f54b2",
   "metadata": {},
   "outputs": [],
   "source": [
    "function stir(::NG1Mix, body1::BasicPheno{Int}, body2::BasicPheno{Int})\n",
    "    body1 > body2 ? 1 : 0\n",
    "end\n",
    "\n",
    "\n",
    "function stir(mix::TestMix, phenos::Dict{EntityKey, AbstractPhenotype})\n",
    "    solution = phenos[mix.solution]\n",
    "    test = phenos[mix.test]\n",
    "    score = stir(mix, solution, test)\n",
    "    ScalarOutcome(solution.key, test.key, score)\n",
    "end\n",
    "\n",
    "function stir(mixes::Set{AbstractMix}, phenos::Dict{EntityKey, AbstractPhenotype})\n",
    "    outcomes = Set{ScalarOutcome}()\n",
    "    for mix in mixes\n",
    "        o = stir(mix, phenos)\n",
    "        push!(outcomes, o)\n",
    "    end\n",
    "    outcomes\n",
    "end\n",
    "\n",
    "\n",
    "struct StatFeatures\n",
    "    mean::Float64\n",
    "    quartiles::Vector{Float64}\n",
    "    var::Float64\n",
    "    std::Float64\n",
    "end\n",
    "\n",
    "struct NGOrgStats <: AbstractStatistics\n",
    "    subjective_fitness::Int\n",
    "    objective_fitness::Int\n",
    "end\n",
    "struct NGPopStats <: AbstractStatistics\n",
    "    obj_fitness::StatFeatures\n",
    "    subj_fitness::StatFeatures\n",
    "end\n"
   ]
  },
  {
   "cell_type": "code",
   "execution_count": null,
   "id": "7140cb58-4bad-4768-87d3-9bc7c182f419",
   "metadata": {},
   "outputs": [],
   "source": [
    "\n",
    "abstract type TestMix <: AbstractMix end\n",
    "abstract type NGMix <: TestMix end\n",
    "\n",
    "struct NG1Mix <: NGMix\n",
    "    solution::Key\n",
    "    test::Key\n",
    "end\n",
    "\n",
    "struct NG2Mix <: NGMix\n",
    "    solution::Key\n",
    "    test::Key\n",
    "end\n",
    "\n",
    "struct NG3Mix <: NGMix\n",
    "    solution::Key\n",
    "    test::Key\n",
    "end"
   ]
  },
  {
   "cell_type": "code",
   "execution_count": null,
   "id": "83a992d1-f594-4efc-9254-f982767e3544",
   "metadata": {},
   "outputs": [],
   "source": [
    "\n",
    "struct ScalarOutcome{T <: Real} <: AbstractOutcome\n",
    "    solution::Key\n",
    "    test::Key\n",
    "    score::T\n",
    "end"
   ]
  },
  {
   "cell_type": "code",
   "execution_count": null,
   "id": "6b5a597c-c292-40dd-b83e-b9133b059427",
   "metadata": {},
   "outputs": [],
   "source": []
  },
  {
   "cell_type": "code",
   "execution_count": null,
   "id": "64c4a377-e5d7-4c9d-b266-87d0bf941c3d",
   "metadata": {},
   "outputs": [],
   "source": []
  },
  {
   "cell_type": "code",
   "execution_count": null,
   "id": "e46c279d-bf5c-4c81-a8d4-7260cfaab235",
   "metadata": {},
   "outputs": [],
   "source": []
  }
 ],
 "metadata": {
  "kernelspec": {
   "display_name": "Julia 1.6.2",
   "language": "julia",
   "name": "julia-1.6"
  },
  "language_info": {
   "file_extension": ".jl",
   "mimetype": "application/julia",
   "name": "julia",
   "version": "1.6.2"
  }
 },
 "nbformat": 4,
 "nbformat_minor": 5
}
