{
 "cells": [
  {
   "cell_type": "markdown",
   "id": "a9affdad-e779-4cc8-bd67-60cf675d017e",
   "metadata": {},
   "source": [
    "## Imports"
   ]
  },
  {
   "cell_type": "code",
   "execution_count": 1,
   "id": "faf8c52a-930b-45e5-a003-86817ef42a08",
   "metadata": {},
   "outputs": [],
   "source": [
    "using Random\n",
    "using StableRNGs\n",
    "using StatsBase\n",
    "using Test"
   ]
  },
  {
   "cell_type": "markdown",
   "id": "6a3e6968-00bc-495d-905e-7025052a1f32",
   "metadata": {},
   "source": [
    "## Abstract Types"
   ]
  },
  {
   "cell_type": "code",
   "execution_count": 2,
   "id": "7ab306af-3ad0-4fcf-97bd-b70682f58e70",
   "metadata": {},
   "outputs": [],
   "source": [
    "# top level\n",
    "abstract type AbstractEntity end\n",
    "\n",
    "# entity that cannot be composed into subentities\n",
    "abstract type AbstractAtom <: AbstractEntity end\n",
    "\n",
    "abstract type AbstractDescription end\n",
    "\n",
    "# datatype of the \"DNA\" or information for encoding an entity\n",
    "abstract type AbstractGenotype <: AbstractDescription end\n",
    "\n",
    "# datatype of the \"expression\" of the genotype, used for evaluation\n",
    "abstract type AbstractPhenotype <: AbstractDescription end\n",
    "\n",
    "# atomic entity comprising a genotype and a phenotype\n",
    "abstract type AbstractOrganism{G <: AbstractGenotype, P <: AbstractPhenotype} <: AbstractAtom end\n",
    "\n",
    "# a set of organisms (which itself constitutes an entity)\n",
    "abstract type AbstractPopulation{O <: AbstractOrganism} <: AbstractEntity end\n",
    "\n",
    "# a mode of interaction between entities\n",
    "abstract type AbstractDomain end\n",
    "\n",
    "# a means of determining which entities interact \n",
    "abstract type AbstractRecipe end\n",
    "\n",
    "# specifies (1) a set of entities or their keys, (2) the domain in which they interact\n",
    "abstract type AbstractMix{T, D <: AbstractDomain} end\n",
    "\n",
    "# an outcome of an interaction\n",
    "abstract type AbstractOutcome end\n",
    "\n",
    "# statistics associated with an entity\n",
    "abstract type AbstractStatistics end\n",
    "\n",
    "# driver\n",
    "abstract type AbstractCoevolution <: AbstractEntity end"
   ]
  },
  {
   "cell_type": "markdown",
   "id": "e3c22ae4-4899-4ccf-b10b-786251ad7e17",
   "metadata": {},
   "source": [
    "## Global Constants"
   ]
  },
  {
   "cell_type": "code",
   "execution_count": 3,
   "id": "5291b928-b34c-4835-8ab3-cf6a1c404cdf",
   "metadata": {
    "tags": []
   },
   "outputs": [
    {
     "data": {
      "text/plain": [
       "\"-\""
      ]
     },
     "execution_count": 3,
     "metadata": {},
     "output_type": "execute_result"
    }
   ],
   "source": [
    "Key = String\n",
    "KEY_SPLIT_TOKEN = \"-\""
   ]
  },
  {
   "cell_type": "markdown",
   "id": "ac0792af-0120-4e16-acbd-22155a2424ef",
   "metadata": {},
   "source": [
    "## Domain"
   ]
  },
  {
   "cell_type": "code",
   "execution_count": 4,
   "id": "6c1f0746-96f6-4bf9-9752-0f1dd0bd41e6",
   "metadata": {},
   "outputs": [
    {
     "data": {
      "text/plain": [
       "NGRelativism"
      ]
     },
     "execution_count": 4,
     "metadata": {},
     "output_type": "execute_result"
    }
   ],
   "source": [
    "abstract type NumbersGame <: AbstractDomain end\n",
    "    \n",
    "struct NGGradient <: NumbersGame end\n",
    "\n",
    "function NGGradient(cfg::NamedTuple)\n",
    "    NGGradient()\n",
    "end\n",
    "\n",
    "struct NGFocusing <: NumbersGame end\n",
    "\n",
    "function NGFocusing(cfg::NamedTuple)\n",
    "    NGFocusing()\n",
    "end\n",
    "\n",
    "struct NGRelativism <: NumbersGame end\n",
    "\n",
    "function NGRelativism(cfg::NamedTuple)\n",
    "    NGRelativism()\n",
    "end"
   ]
  },
  {
   "cell_type": "markdown",
   "id": "afc5eb22-3867-405b-8de8-04959d5ace2f",
   "metadata": {},
   "source": [
    "## BasicGeno"
   ]
  },
  {
   "cell_type": "code",
   "execution_count": 5,
   "id": "490afe6b-d4de-4cec-a95b-244bcf1f9c0f",
   "metadata": {
    "tags": []
   },
   "outputs": [],
   "source": [
    "struct BasicGeno{G, D <: AbstractDomain} <: AbstractGenotype\n",
    "    key::Key\n",
    "    genes::G\n",
    "    stats::Set{AbstractStatistics}\n",
    "    BasicGeno{G, D}(key, genes) where {G, D <: AbstractDomain} = new(key, genes, Set())\n",
    "end\n",
    "\n",
    "function BasicGeno{Vector{Bool}, D}(key::Key, val::Bool, width::Int) where {D <: AbstractDomain}\n",
    "    bits = Bool[val for _ in 1:width]\n",
    "    BasicGeno{Vector{Bool}, D}(key, bits)\n",
    "end\n",
    "\n",
    "function BasicGeno{Vector{Bool}, D}(key::Key, rng::AbstractRNG, width::Int) where {D <: AbstractDomain}\n",
    "    bits = rand(rng, Bool, width)\n",
    "    BasicGeno{Vector{Bool}, D}(key, bits)\n",
    "end\n",
    "\n",
    "function BasicGeno{Vector{Bool}, D}(key::Key, cfg::NamedTuple) where {D <: AbstractDomain}\n",
    "    if haskey(cfg, :genome_default_val)\n",
    "        BasicGeno{Vector{Bool}, D}(key, cfg.genome_default_val, cfg.genome_width)\n",
    "    elseif haskey(cfg, :rng)\n",
    "        BasicGeno{Vector{Bool}, D}(key, cfg.rng, cfg.genome_width)\n",
    "    else\n",
    "        error(\"Invalid config for genomes\")\n",
    "    end\n",
    "end"
   ]
  },
  {
   "cell_type": "code",
   "execution_count": 6,
   "id": "43036f82-db59-454a-a615-214473d07de9",
   "metadata": {},
   "outputs": [
    {
     "name": "stdout",
     "output_type": "stream",
     "text": [
      "BasicGeno{Vector{Bool}, NumbersGame}(\"AllZeros\", Bool[0, 0, 0, 0, 0, 0, 0, 0, 0, 0], Set{AbstractStatistics}())\n",
      "BasicGeno{Vector{Bool}, NumbersGame}(\"AllOnes\", Bool[1, 1, 1, 1, 1, 1, 1, 1, 1, 1, 1, 1, 1, 1, 1], Set{AbstractStatistics}())\n",
      "BasicGeno{Vector{Bool}, NumbersGame}(\"Random\", Bool[1, 0, 1, 1, 1, 1, 0, 1, 1, 1, 1, 1, 1, 1, 0, 0, 0, 0, 0, 1], Set{AbstractStatistics}())\n"
     ]
    }
   ],
   "source": [
    "T = Vector{Bool}\n",
    "D = NumbersGame\n",
    "G = BasicGeno{T, D}\n",
    "\n",
    "# genome initialization with default value 0\n",
    "cfg = (genome_default_val = false, genome_width = 10)\n",
    "geno_zeros = G(\"AllZeros\", cfg)\n",
    "println(geno_zeros)\n",
    "\n",
    "# genome initialization with default value 1\n",
    "cfg = (genome_default_val = true, genome_width = 15)\n",
    "geno_ones = G(\"AllOnes\", cfg)\n",
    "println(geno_ones)\n",
    "\n",
    "# genome initialization with random values\n",
    "cfg = (rng = StableRNG(123), genome_width = 20)\n",
    "geno_rand = G(\"Random\", cfg)\n",
    "println(geno_rand)"
   ]
  },
  {
   "cell_type": "markdown",
   "id": "682bbd5d-053f-4897-a3be-ab80b4befe72",
   "metadata": {},
   "source": [
    "## BasicPheno"
   ]
  },
  {
   "cell_type": "code",
   "execution_count": 7,
   "id": "68416744-931e-4e55-b600-d0ef8bdb0991",
   "metadata": {
    "tags": []
   },
   "outputs": [],
   "source": [
    "struct BasicPheno{T, D <: AbstractDomain} <: AbstractPhenotype\n",
    "    key::Key\n",
    "    traits::T\n",
    "    stats::Set{AbstractStatistics}\n",
    "    BasicPheno{T, D}(key, traits) where {T, D} = new(key, traits, Set())\n",
    "end\n",
    "\n",
    "function BasicPheno{Int, NumbersGame}(key::Key, geno::BasicGeno{Vector{Bool}}, cfg::NamedTuple)\n",
    "    BasicPheno{Int, NumbersGame}(key, sum(geno.genes))\n",
    "end\n",
    "\n",
    "function BasicPheno{Vector{Int}, NumbersGame}(key::Key, geno::BasicGeno{Vector{Bool}}, subvector_width::Int)\n",
    "    if mod(length(geno.genes), subvector_width) != 0\n",
    "        error(\"Invalid subvector width for given genome width\")\n",
    "    end\n",
    "    traits = [sum(part) for part in Iterators.partition(geno.genes, subvector_width)]\n",
    "    BasicPheno{Vector{Int}, NumbersGame}(key, traits)\n",
    "end\n",
    "\n",
    "function BasicPheno{Vector{Int}, NumbersGame}(key::Key, geno::BasicGeno{Vector{Bool}}, cfg::NamedTuple)\n",
    "    BasicPheno{Vector{Int}, NumbersGame}(key, geno, cfg.subvector_width)\n",
    "end"
   ]
  },
  {
   "cell_type": "code",
   "execution_count": 8,
   "id": "b5d7cf13-6964-4e74-81c2-74083ff1c49f",
   "metadata": {},
   "outputs": [
    {
     "name": "stdout",
     "output_type": "stream",
     "text": [
      "BasicPheno{Int64, NumbersGame}(\"IntPheno\", 47, Set{AbstractStatistics}())\n",
      "BasicPheno{Vector{Int64}, NumbersGame}(\"VecPheno\", [8, 5, 7, 5, 5, 2, 6, 1, 5, 3], Set{AbstractStatistics}())\n"
     ]
    }
   ],
   "source": [
    "cfg = (rng = StableRNG(123), subvector_width = 10, genome_width = 100)\n",
    "\n",
    "T = Vector{Bool}\n",
    "D = NumbersGame\n",
    "G = BasicGeno{T, D}\n",
    "geno_rand = G(\"RandGeno\", cfg)\n",
    "\n",
    "T = Int\n",
    "D = NumbersGame\n",
    "P = BasicPheno{T, D}\n",
    "pheno_int = P(\"IntPheno\", geno_rand, cfg)\n",
    "\n",
    "T = Vector{Int}\n",
    "D = NumbersGame\n",
    "P = BasicPheno{T, D}\n",
    "pheno_vec = P(\"VecPheno\", geno_rand, cfg)\n",
    "\n",
    "println(pheno_int)\n",
    "println(pheno_vec)"
   ]
  },
  {
   "cell_type": "markdown",
   "id": "861f16d6-d08a-4e8e-ae6f-bc3cb8386bf4",
   "metadata": {},
   "source": [
    "## BasicOrg"
   ]
  },
  {
   "cell_type": "code",
   "execution_count": 9,
   "id": "8eaf6812-d903-4ed4-bbf4-7e2b4fc983da",
   "metadata": {
    "tags": []
   },
   "outputs": [],
   "source": [
    "struct BasicOrg{G, P} <: AbstractOrganism{G, P}\n",
    "    key::Key\n",
    "    geno::G\n",
    "    pheno::P\n",
    "    outcomes::Set{AbstractOutcome}\n",
    "    stats::Set{AbstractStatistics}\n",
    "    BasicOrg{G, P}(key, geno, pheno) where {G, P} = new(key, geno, pheno, Set(), Set())\n",
    "end\n",
    "\n",
    "function BasicOrg{G, P}(key::String, cfg::NamedTuple) where {G <: AbstractGenotype, P <: AbstractPhenotype}\n",
    "    geno = G(key, cfg)\n",
    "    pheno = P(key, geno, cfg)\n",
    "    BasicOrg{G, P}(key, geno, pheno)\n",
    "end"
   ]
  },
  {
   "cell_type": "code",
   "execution_count": 10,
   "id": "33802030-a6a8-4fcc-a574-306157b62a4d",
   "metadata": {},
   "outputs": [
    {
     "name": "stdout",
     "output_type": "stream",
     "text": [
      "BasicOrg{BasicGeno{Vector{Bool}, NumbersGame}, BasicPheno{Vector{Int64}, NumbersGame}}(\"Organism\", BasicGeno{Vector{Bool}, NumbersGame}(\"Organism\", Bool[1, 0, 1, 1, 1, 1, 0, 1, 1, 1, 1, 1, 1, 1, 0, 0, 0, 0, 0, 1, 1, 0, 1, 1, 0, 1, 1, 1, 1, 0, 1, 1, 1, 1, 1, 0, 0, 0, 0, 0, 0, 1, 1, 1, 1, 0, 0, 0, 0, 1, 0, 0, 1, 0, 0, 0, 1, 0, 0, 0, 1, 1, 1, 1, 1, 0, 0, 0, 1, 0, 0, 0, 0, 0, 0, 0, 0, 0, 0, 1, 0, 1, 1, 1, 1, 0, 0, 0, 0, 1, 0, 0, 0, 1, 1, 0, 0, 0, 1, 0], Set{AbstractStatistics}()), BasicPheno{Vector{Int64}, NumbersGame}(\"Organism\", [8, 5, 7, 5, 5, 2, 6, 1, 5, 3], Set{AbstractStatistics}()), Set{AbstractOutcome}(), Set{AbstractStatistics}())\n"
     ]
    }
   ],
   "source": [
    "cfg = (rng = StableRNG(123), subvector_width = 10, genome_width = 100)\n",
    "\n",
    "T = Vector{Bool}\n",
    "D = NumbersGame\n",
    "G = BasicGeno{T, D}\n",
    "\n",
    "T = Vector{Int}\n",
    "D = NumbersGame\n",
    "P = BasicPheno{T, D}\n",
    "\n",
    "org = BasicOrg{G, P}(\"Organism\", cfg)\n",
    "println(org)"
   ]
  },
  {
   "cell_type": "markdown",
   "id": "9ead471e-c18a-415d-9a66-6ca5f565c902",
   "metadata": {},
   "source": [
    "## BasicPop"
   ]
  },
  {
   "cell_type": "code",
   "execution_count": 11,
   "id": "4394a690-ffae-4e2c-b23b-ee0906df605e",
   "metadata": {
    "tags": []
   },
   "outputs": [],
   "source": [
    "struct BasicPop{O <: AbstractOrganism} <: AbstractPopulation{O}\n",
    "    key::String\n",
    "    orgs::Set{O}\n",
    "    stats::Set{AbstractStatistics}\n",
    "    BasicPop{O}(key, orgs) where {O <: AbstractOrganism} = new{O}(key, orgs, Set())\n",
    "end\n",
    "\n",
    "function BasicPop{O}(key::String, n_orgs::Int, cfg::NamedTuple) where {O <: AbstractOrganism}\n",
    "    orgs = Set{O}()\n",
    "    for i in 1:n_orgs\n",
    "        orgkey = join([key, i], KEY_SPLIT_TOKEN)  \n",
    "        org = O(orgkey, cfg)\n",
    "        push!(orgs, org)\n",
    "    end\n",
    "    BasicPop{O}(key, orgs)\n",
    "end\n",
    "\n",
    "function BasicPop{O}(key::String, cfg::NamedTuple) where {O <: AbstractOrganism}\n",
    "    BasicPop{O}(key, cfg.n_orgs, cfg)\n",
    "end\n",
    "\n",
    "function Dict{String, AbstractPhenotype}(pop::AbstractPopulation)\n",
    "    Dict{String, AbstractPhenotype}([org.key => org.pheno for org in pop.orgs])\n",
    "end"
   ]
  },
  {
   "cell_type": "code",
   "execution_count": 12,
   "id": "62581625-bb9c-4f31-b10a-0c872e55faac",
   "metadata": {
    "tags": []
   },
   "outputs": [
    {
     "name": "stdout",
     "output_type": "stream",
     "text": [
      "BasicPop{BasicOrg{BasicGeno{Vector{Bool}, NumbersGame}, BasicPheno{Vector{Int64}, NumbersGame}}}(\"test\", Set(BasicOrg{BasicGeno{Vector{Bool}, NumbersGame}, BasicPheno{Vector{Int64}, NumbersGame}}[BasicOrg{BasicGeno{Vector{Bool}, NumbersGame}, BasicPheno{Vector{Int64}, NumbersGame}}(\"test-8\", BasicGeno{Vector{Bool}, NumbersGame}(\"test-8\", Bool[0, 1, 1, 0, 1, 1, 0, 1, 0, 0, 1, 0, 0, 1, 1, 0, 1, 1, 0, 1, 1, 1, 0, 1, 1, 0, 1, 0, 0, 0, 0, 0, 1, 0, 1, 0, 1, 0, 1, 0, 0, 1, 0, 0, 1, 0, 1, 1, 1, 1, 0, 1, 0, 1, 0, 1, 1, 1, 0, 1, 1, 0, 0, 1, 1, 1, 0, 1, 1, 1, 0, 1, 0, 1, 1, 0, 1, 1, 1, 0, 1, 1, 1, 0, 1, 1, 1, 1, 1, 1, 1, 1, 0, 0, 1, 1, 0, 1, 0, 0], Set{AbstractStatistics}()), BasicPheno{Vector{Int64}, NumbersGame}(\"test-8\", [5, 6, 5, 4, 6, 6, 7, 6, 9, 5], Set{AbstractStatistics}()), Set{AbstractOutcome}(), Set{AbstractStatistics}()), BasicOrg{BasicGeno{Vector{Bool}, NumbersGame}, BasicPheno{Vector{Int64}, NumbersGame}}(\"test-10\", BasicGeno{Vector{Bool}, NumbersGame}(\"test-10\", Bool[1, 0, 0, 0, 0, 1, 0, 1, 0, 1, 0, 0, 1, 1, 1, 1, 0, 1, 1, 0, 1, 1, 0, 0, 0, 0, 0, 0, 1, 0, 0, 1, 0, 1, 1, 1, 0, 0, 1, 0, 1, 0, 1, 1, 0, 0, 1, 1, 1, 0, 1, 1, 1, 1, 0, 1, 0, 0, 0, 1, 1, 1, 0, 0, 1, 0, 0, 1, 1, 0, 1, 1, 1, 1, 0, 0, 1, 0, 1, 0, 1, 0, 1, 1, 0, 0, 1, 1, 0, 0, 1, 0, 0, 1, 1, 1, 1, 1, 0, 1], Set{AbstractStatistics}()), BasicPheno{Vector{Int64}, NumbersGame}(\"test-10\", [4, 6, 3, 5, 6, 6, 5, 6, 5, 7], Set{AbstractStatistics}()), Set{AbstractOutcome}(), Set{AbstractStatistics}()), BasicOrg{BasicGeno{Vector{Bool}, NumbersGame}, BasicPheno{Vector{Int64}, NumbersGame}}(\"test-2\", BasicGeno{Vector{Bool}, NumbersGame}(\"test-2\", Bool[1, 1, 1, 1, 0, 1, 1, 0, 0, 1, 0, 0, 1, 1, 1, 1, 0, 1, 0, 1, 0, 1, 0, 0, 1, 1, 0, 0, 1, 1, 1, 0, 1, 0, 1, 1, 0, 0, 1, 0, 0, 0, 1, 0, 1, 0, 0, 0, 0, 1, 1, 0, 1, 1, 1, 1, 0, 0, 1, 1, 0, 0, 1, 1, 0, 1, 0, 0, 0, 0, 1, 1, 0, 1, 1, 1, 1, 1, 0, 0, 1, 0, 1, 0, 0, 1, 1, 0, 1, 0, 0, 0, 0, 1, 0, 1, 1, 1, 1, 1], Set{AbstractStatistics}()), BasicPheno{Vector{Int64}, NumbersGame}(\"test-2\", [7, 6, 5, 5, 3, 7, 3, 7, 5, 6], Set{AbstractStatistics}()), Set{AbstractOutcome}(), Set{AbstractStatistics}()), BasicOrg{BasicGeno{Vector{Bool}, NumbersGame}, BasicPheno{Vector{Int64}, NumbersGame}}(\"test-3\", BasicGeno{Vector{Bool}, NumbersGame}(\"test-3\", Bool[0, 0, 0, 0, 0, 0, 0, 0, 0, 0, 0, 0, 1, 1, 0, 1, 1, 0, 0, 1, 0, 1, 0, 0, 0, 1, 0, 0, 1, 0, 0, 0, 0, 0, 0, 0, 1, 1, 1, 1, 1, 1, 0, 1, 0, 1, 0, 1, 0, 1, 1, 0, 1, 0, 1, 1, 1, 1, 0, 1, 1, 0, 1, 0, 1, 0, 0, 0, 1, 1, 0, 1, 0, 1, 1, 1, 1, 0, 1, 1, 0, 0, 0, 0, 1, 0, 1, 0, 1, 0, 1, 1, 1, 0, 0, 1, 1, 1, 0, 0], Set{AbstractStatistics}()), BasicPheno{Vector{Int64}, NumbersGame}(\"test-3\", [0, 5, 3, 4, 6, 7, 5, 7, 3, 6], Set{AbstractStatistics}()), Set{AbstractOutcome}(), Set{AbstractStatistics}()), BasicOrg{BasicGeno{Vector{Bool}, NumbersGame}, BasicPheno{Vector{Int64}, NumbersGame}}(\"test-9\", BasicGeno{Vector{Bool}, NumbersGame}(\"test-9\", Bool[1, 1, 0, 1, 0, 1, 1, 1, 0, 0, 0, 0, 1, 1, 0, 0, 0, 1, 0, 0, 1, 1, 1, 1, 1, 1, 0, 1, 0, 0, 0, 1, 0, 1, 1, 0, 0, 1, 1, 0, 0, 0, 0, 0, 0, 1, 0, 0, 1, 0, 1, 1, 0, 0, 1, 1, 1, 0, 0, 0, 0, 1, 0, 0, 1, 0, 0, 0, 1, 1, 0, 1, 1, 1, 0, 1, 0, 1, 0, 1, 0, 1, 1, 1, 0, 0, 1, 0, 0, 1, 1, 0, 1, 1, 0, 1, 1, 0, 0, 1], Set{AbstractStatistics}()), BasicPheno{Vector{Int64}, NumbersGame}(\"test-9\", [6, 3, 7, 5, 2, 5, 4, 6, 5, 6], Set{AbstractStatistics}()), Set{AbstractOutcome}(), Set{AbstractStatistics}()), BasicOrg{BasicGeno{Vector{Bool}, NumbersGame}, BasicPheno{Vector{Int64}, NumbersGame}}(\"test-7\", BasicGeno{Vector{Bool}, NumbersGame}(\"test-7\", Bool[1, 0, 0, 0, 1, 1, 1, 1, 1, 0, 1, 1, 0, 0, 1, 1, 0, 0, 0, 0, 1, 1, 0, 1, 0, 1, 0, 1, 0, 1, 1, 1, 0, 1, 0, 1, 1, 0, 0, 0, 0, 1, 0, 1, 0, 1, 1, 1, 1, 0, 1, 0, 1, 0, 0, 1, 1, 1, 0, 0, 1, 1, 1, 0, 1, 0, 0, 1, 0, 1, 1, 1, 0, 0, 1, 0, 0, 0, 1, 1, 1, 0, 1, 0, 1, 0, 0, 1, 1, 0, 0, 0, 0, 0, 1, 0, 1, 0, 0, 1], Set{AbstractStatistics}()), BasicPheno{Vector{Int64}, NumbersGame}(\"test-7\", [6, 4, 6, 5, 6, 5, 6, 5, 5, 3], Set{AbstractStatistics}()), Set{AbstractOutcome}(), Set{AbstractStatistics}()), BasicOrg{BasicGeno{Vector{Bool}, NumbersGame}, BasicPheno{Vector{Int64}, NumbersGame}}(\"test-4\", BasicGeno{Vector{Bool}, NumbersGame}(\"test-4\", Bool[0, 0, 1, 0, 0, 1, 0, 1, 0, 1, 1, 0, 1, 1, 0, 1, 1, 1, 1, 0, 1, 0, 0, 1, 0, 1, 0, 0, 0, 0, 1, 0, 1, 1, 0, 0, 1, 0, 0, 1, 1, 0, 0, 1, 1, 0, 1, 1, 1, 0, 0, 1, 0, 0, 0, 1, 1, 0, 1, 0, 0, 1, 0, 0, 0, 1, 1, 0, 1, 0, 0, 0, 0, 1, 1, 0, 1, 1, 1, 0, 0, 0, 1, 1, 0, 1, 0, 1, 0, 0, 0, 1, 1, 1, 0, 0, 1, 0, 1, 0], Set{AbstractStatistics}()), BasicPheno{Vector{Int64}, NumbersGame}(\"test-4\", [4, 7, 3, 5, 6, 4, 4, 5, 4, 5], Set{AbstractStatistics}()), Set{AbstractOutcome}(), Set{AbstractStatistics}()), BasicOrg{BasicGeno{Vector{Bool}, NumbersGame}, BasicPheno{Vector{Int64}, NumbersGame}}(\"test-1\", BasicGeno{Vector{Bool}, NumbersGame}(\"test-1\", Bool[1, 0, 1, 1, 1, 1, 0, 1, 1, 1, 1, 1, 1, 1, 0, 0, 0, 0, 0, 1, 1, 0, 1, 1, 0, 1, 1, 1, 1, 0, 1, 1, 1, 1, 1, 0, 0, 0, 0, 0, 0, 1, 1, 1, 1, 0, 0, 0, 0, 1, 0, 0, 1, 0, 0, 0, 1, 0, 0, 0, 1, 1, 1, 1, 1, 0, 0, 0, 1, 0, 0, 0, 0, 0, 0, 0, 0, 0, 0, 1, 0, 1, 1, 1, 1, 0, 0, 0, 0, 1, 0, 0, 0, 1, 1, 0, 0, 0, 1, 0], Set{AbstractStatistics}()), BasicPheno{Vector{Int64}, NumbersGame}(\"test-1\", [8, 5, 7, 5, 5, 2, 6, 1, 5, 3], Set{AbstractStatistics}()), Set{AbstractOutcome}(), Set{AbstractStatistics}()), BasicOrg{BasicGeno{Vector{Bool}, NumbersGame}, BasicPheno{Vector{Int64}, NumbersGame}}(\"test-5\", BasicGeno{Vector{Bool}, NumbersGame}(\"test-5\", Bool[0, 0, 0, 0, 1, 0, 1, 0, 0, 1, 0, 1, 0, 0, 0, 0, 1, 1, 1, 1, 1, 1, 1, 0, 1, 0, 1, 0, 0, 0, 0, 1, 0, 0, 1, 1, 1, 1, 0, 1, 0, 0, 1, 1, 0, 1, 0, 1, 0, 0, 1, 0, 1, 1, 0, 0, 1, 0, 0, 1, 0, 1, 0, 0, 0, 0, 1, 1, 0, 1, 0, 1, 0, 1, 1, 1, 0, 0, 1, 1, 0, 0, 0, 0, 1, 0, 1, 1, 0, 0, 1, 1, 1, 0, 0, 0, 1, 0, 1, 1], Set{AbstractStatistics}()), BasicPheno{Vector{Int64}, NumbersGame}(\"test-5\", [3, 5, 5, 6, 4, 5, 4, 6, 3, 6], Set{AbstractStatistics}()), Set{AbstractOutcome}(), Set{AbstractStatistics}()), BasicOrg{BasicGeno{Vector{Bool}, NumbersGame}, BasicPheno{Vector{Int64}, NumbersGame}}(\"test-6\", BasicGeno{Vector{Bool}, NumbersGame}(\"test-6\", Bool[0, 0, 1, 1, 0, 1, 0, 0, 0, 1, 1, 0, 1, 1, 0, 0, 1, 1, 1, 1, 0, 1, 1, 1, 0, 1, 0, 0, 1, 1, 0, 0, 1, 1, 1, 1, 0, 1, 1, 1, 0, 0, 0, 0, 0, 0, 0, 1, 1, 1, 1, 0, 1, 1, 0, 0, 0, 0, 1, 0, 1, 1, 1, 1, 0, 0, 1, 0, 0, 1, 0, 1, 1, 1, 0, 1, 1, 0, 0, 1, 1, 0, 1, 1, 1, 0, 0, 0, 0, 1, 0, 1, 0, 1, 0, 0, 1, 0, 0, 1], Set{AbstractStatistics}()), BasicPheno{Vector{Int64}, NumbersGame}(\"test-6\", [4, 7, 6, 7, 3, 4, 6, 6, 5, 4], Set{AbstractStatistics}()), Set{AbstractOutcome}(), Set{AbstractStatistics}())]), Set{AbstractStatistics}())\n"
     ]
    }
   ],
   "source": [
    "cfg = (rng = StableRNG(123), subvector_width = 10, genome_width = 100, n_orgs = 10)\n",
    "T = Vector{Bool}\n",
    "D = NumbersGame\n",
    "G = BasicGeno{T, D}\n",
    "\n",
    "T = Vector{Int}\n",
    "D = NumbersGame\n",
    "P = BasicPheno{T, D}\n",
    "\n",
    "O = BasicOrg{G, P}\n",
    "\n",
    "pop = BasicPop{O}(\"test\", cfg)\n",
    "println(pop)"
   ]
  },
  {
   "cell_type": "code",
   "execution_count": 13,
   "id": "ceace4be-d922-4b1e-9e1f-eca3f141350e",
   "metadata": {},
   "outputs": [
    {
     "data": {
      "text/plain": [
       "\u001b[32m\u001b[1mTest Passed\u001b[22m\u001b[39m"
      ]
     },
     "execution_count": 13,
     "metadata": {},
     "output_type": "execute_result"
    }
   ],
   "source": [
    "@test length(pop.orgs) == 10\n",
    "@test typeof(pop.orgs) == Set{BasicOrg{BasicGeno{Vector{Bool}, NumbersGame},\n",
    "                                       BasicPheno{Vector{Int}, NumbersGame}}}"
   ]
  },
  {
   "cell_type": "markdown",
   "id": "7a6d4d0d-7b6a-4704-946d-3113f74b877b",
   "metadata": {},
   "source": [
    "## PairMix"
   ]
  },
  {
   "cell_type": "code",
   "execution_count": 14,
   "id": "3544c211-9048-47c8-b7bf-8baacc79f072",
   "metadata": {},
   "outputs": [],
   "source": [
    "struct PairMix{T, D <: AbstractDomain} <: AbstractMix{T, D}\n",
    "    subject::T\n",
    "    test::T\n",
    "end\n",
    "\n",
    "function PairMix{String, D}(subject::AbstractOrganism, test::AbstractOrganism) where {D <: AbstractDomain}\n",
    "    PairMix{String, D}(subject.key, test.key)\n",
    "end\n",
    "\n",
    "function PairMix{P, D}(subject::AbstractOrganism, test::AbstractOrganism) where {P <: AbstractPhenotype, D <: AbstractDomain}\n",
    "    PairMix{P, D}(subject.pheno, test.pheno)\n",
    "end"
   ]
  },
  {
   "cell_type": "markdown",
   "id": "e1a7c93d-7d6f-4571-9504-e0601b67c114",
   "metadata": {},
   "source": [
    "## Recipes"
   ]
  },
  {
   "cell_type": "code",
   "execution_count": 37,
   "id": "5b826ea7-8e66-4ce5-92e5-efbdf290e951",
   "metadata": {},
   "outputs": [
    {
     "data": {
      "text/plain": [
       "\u001b[32m\u001b[1mTest Passed\u001b[22m\u001b[39m"
      ]
     },
     "execution_count": 37,
     "metadata": {},
     "output_type": "execute_result"
    }
   ],
   "source": [
    "struct SampleRecipe <: AbstractRecipe\n",
    "    rng::AbstractRNG\n",
    "    n_samples::Int\n",
    "    n_processes::Int\n",
    "end\n",
    "\n",
    "function SampleRecipe(cfg::NamedTuple)\n",
    "    SampleRecipe(cfg.rng, cfg.n_samples, cfg.n_processes)\n",
    "end\n",
    "\n",
    "cfg = (rng = StableRNG(123), n_samples = 10, n_processes = 1)\n",
    "@test SampleRecipe(cfg).n_samples == 10"
   ]
  },
  {
   "cell_type": "code",
   "execution_count": 16,
   "id": "aaba1382-3ef9-4db7-9be1-a5a8e3c1515e",
   "metadata": {},
   "outputs": [
    {
     "data": {
      "text/plain": [
       "Dict{Int64, String} with 4 entries:\n",
       "  4 => \"d\"\n",
       "  2 => \"b\"\n",
       "  3 => \"c\"\n",
       "  1 => \"a\""
      ]
     },
     "execution_count": 16,
     "metadata": {},
     "output_type": "execute_result"
    }
   ],
   "source": [
    "d1 = Dict([1 => \"a\", 2 => \"b\"])\n",
    "d2 = Dict([3 => \"c\", 4 => \"d\"])\n",
    "reduce(merge, [d1, d2])"
   ]
  },
  {
   "cell_type": "markdown",
   "id": "0dfb1cac-875b-4b78-b8a0-8e0426c48fd7",
   "metadata": {},
   "source": [
    "## Dictionaries of Descriptions\n",
    "get all phenotypes/genotypes"
   ]
  },
  {
   "cell_type": "code",
   "execution_count": 17,
   "id": "4ed53ddd-7c72-4656-9baa-e342a74e5af7",
   "metadata": {},
   "outputs": [],
   "source": [
    "function Dict{String, P}(pop::AbstractPopulation) where {P <: AbstractPhenotype}\n",
    "    Dict([org.key => org.pheno for org in pop.orgs])\n",
    "end\n",
    "\n",
    "function Dict{String, G}(pop::AbstractPopulation) where {G <: AbstractGenotype}\n",
    "    Dict([org.key => org.geno for org in pop.orgs])\n",
    "end\n",
    "\n",
    "function Dict{String, D}(coev::AbstractCoevolution) where {D <: AbstractDescription}\n",
    "    reduce(merge, [Dict{String, D}(pop) for pop in coev.pops])\n",
    "end\n",
    "\n"
   ]
  },
  {
   "cell_type": "code",
   "execution_count": 40,
   "id": "3515d74a-0e3c-40b3-90d9-cd41cb62e7da",
   "metadata": {},
   "outputs": [
    {
     "data": {
      "text/plain": [
       "Dict{String, BasicGeno{Vector{Bool}, NumbersGame}} with 10 entries:\n",
       "  \"test1-4\"  => BasicGeno{Vector{Bool}, NumbersGame}(\"test1-4\", Bool[0, 0, 1, 0…\n",
       "  \"test1-8\"  => BasicGeno{Vector{Bool}, NumbersGame}(\"test1-8\", Bool[0, 1, 1, 0…\n",
       "  \"test1-10\" => BasicGeno{Vector{Bool}, NumbersGame}(\"test1-10\", Bool[1, 0, 0, …\n",
       "  \"test1-9\"  => BasicGeno{Vector{Bool}, NumbersGame}(\"test1-9\", Bool[1, 1, 0, 1…\n",
       "  \"test1-5\"  => BasicGeno{Vector{Bool}, NumbersGame}(\"test1-5\", Bool[0, 0, 0, 0…\n",
       "  \"test1-7\"  => BasicGeno{Vector{Bool}, NumbersGame}(\"test1-7\", Bool[1, 0, 0, 0…\n",
       "  \"test1-3\"  => BasicGeno{Vector{Bool}, NumbersGame}(\"test1-3\", Bool[0, 0, 0, 0…\n",
       "  \"test1-2\"  => BasicGeno{Vector{Bool}, NumbersGame}(\"test1-2\", Bool[1, 1, 1, 1…\n",
       "  \"test1-1\"  => BasicGeno{Vector{Bool}, NumbersGame}(\"test1-1\", Bool[1, 0, 1, 1…\n",
       "  \"test1-6\"  => BasicGeno{Vector{Bool}, NumbersGame}(\"test1-6\", Bool[0, 0, 1, 1…"
      ]
     },
     "execution_count": 40,
     "metadata": {},
     "output_type": "execute_result"
    }
   ],
   "source": [
    "cfg = (rng = StableRNG(123), n_orgs = 10, genome_width = 100, n_samples = 10, n_processes = 1)\n",
    "pop1 = BasicPop{O}(\"test1\", cfg)\n",
    "Dict{String, BasicGeno}(pop1)"
   ]
  },
  {
   "cell_type": "code",
   "execution_count": 41,
   "id": "c0cf04cf-8e8b-4785-81dc-312ae99f15ce",
   "metadata": {},
   "outputs": [
    {
     "data": {
      "text/plain": [
       "Dict{String, BasicPheno{Int64, NumbersGame}} with 10 entries:\n",
       "  \"test1-4\"  => BasicPheno{Int64, NumbersGame}(\"test1-4\", 51, Set{AbstractStati…\n",
       "  \"test1-8\"  => BasicPheno{Int64, NumbersGame}(\"test1-8\", 50, Set{AbstractStati…\n",
       "  \"test1-9\"  => BasicPheno{Int64, NumbersGame}(\"test1-9\", 54, Set{AbstractStati…\n",
       "  \"test1-10\" => BasicPheno{Int64, NumbersGame}(\"test1-10\", 55, Set{AbstractStat…\n",
       "  \"test1-3\"  => BasicPheno{Int64, NumbersGame}(\"test1-3\", 50, Set{AbstractStati…\n",
       "  \"test1-7\"  => BasicPheno{Int64, NumbersGame}(\"test1-7\", 48, Set{AbstractStati…\n",
       "  \"test1-5\"  => BasicPheno{Int64, NumbersGame}(\"test1-5\", 51, Set{AbstractStati…\n",
       "  \"test1-2\"  => BasicPheno{Int64, NumbersGame}(\"test1-2\", 56, Set{AbstractStati…\n",
       "  \"test1-1\"  => BasicPheno{Int64, NumbersGame}(\"test1-1\", 49, Set{AbstractStati…\n",
       "  \"test1-6\"  => BasicPheno{Int64, NumbersGame}(\"test1-6\", 53, Set{AbstractStati…"
      ]
     },
     "execution_count": 41,
     "metadata": {},
     "output_type": "execute_result"
    }
   ],
   "source": [
    "pop1 = BasicPop{O}(\"test1\", cfg)\n",
    "Dict{String, BasicPheno}(pop1)"
   ]
  },
  {
   "cell_type": "code",
   "execution_count": 20,
   "id": "367957c5-dab4-40d0-be86-cd413e5e99b1",
   "metadata": {},
   "outputs": [
    {
     "data": {
      "text/plain": [
       "PairMix"
      ]
     },
     "execution_count": 20,
     "metadata": {},
     "output_type": "execute_result"
    }
   ],
   "source": [
    "function PairMix{String, D}(o1::AbstractOrganism, o2::AbstractOrganism) where {D <: AbstractDomain}\n",
    "    PairMix{String, D}(o1.key, o2.key)\n",
    "end\n",
    "\n",
    "function PairMix(mix::PairMix{String, D}, phenos::Dict{String, P}) where {P <: AbstractPhenotype, D <: AbstractDomain}\n",
    "    PairMix{P, D}(phenos[mix.solution], phenos[mix.test])\n",
    "end\n"
   ]
  },
  {
   "cell_type": "code",
   "execution_count": 21,
   "id": "c02266cd-4202-4b42-b745-3c73f89a940c",
   "metadata": {},
   "outputs": [
    {
     "data": {
      "text/plain": [
       "PairMix{String, NGGradient}(\"test1-5\", \"test2-8\")"
      ]
     },
     "execution_count": 21,
     "metadata": {},
     "output_type": "execute_result"
    }
   ],
   "source": [
    "cfg = (rng = StableRNG(123), subvector_width = 10, genome_width = 100, n_orgs = 10)\n",
    "T = Vector{Bool}\n",
    "D = NumbersGame\n",
    "G = BasicGeno{T, D}\n",
    "\n",
    "T = Vector{Int}\n",
    "D = NumbersGame\n",
    "P = BasicPheno{T, D}\n",
    "\n",
    "O = BasicOrg{G, P}\n",
    "\n",
    "pop1 = BasicPop{O}(\"test1\", cfg)\n",
    "d1 = Dict{String, AbstractPhenotype}(pop1)\n",
    "pop2 = BasicPop{O}(\"test2\", cfg)\n",
    "d2 = Dict{String, AbstractPhenotype}(pop2)\n",
    "\n",
    "o1 = rand(cfg.rng, pop1.orgs)\n",
    "o2 = rand(cfg.rng, pop2.orgs)\n",
    "\n",
    "PairMix{String, NGGradient}(o1, o2)"
   ]
  },
  {
   "cell_type": "code",
   "execution_count": 22,
   "id": "f8ab5acd-3416-425f-a2d8-23d12514aa91",
   "metadata": {},
   "outputs": [
    {
     "data": {
      "text/plain": [
       "DummyPop (generic function with 2 methods)"
      ]
     },
     "execution_count": 22,
     "metadata": {},
     "output_type": "execute_result"
    }
   ],
   "source": [
    "function DummyPop(key::String=\"Test\")\n",
    "    cfg = (rng = StableRNG(123), subvector_width = 10, genome_width = 100, n_orgs = 10)\n",
    "    T = Vector{Bool}\n",
    "    D = NumbersGame\n",
    "    G = BasicGeno{T, D}\n",
    "\n",
    "    T = Vector{Int}\n",
    "    D = NumbersGame\n",
    "    P = BasicPheno{T, D}\n",
    "\n",
    "    O = BasicOrg{G, P}\n",
    "    BasicPop{O}(key, cfg)\n",
    "end"
   ]
  },
  {
   "cell_type": "code",
   "execution_count": 23,
   "id": "acca186e-8867-4155-bc70-347b5489c005",
   "metadata": {},
   "outputs": [
    {
     "name": "stdout",
     "output_type": "stream",
     "text": [
      "DataTypetrue"
     ]
    },
    {
     "data": {
      "text/plain": [
       "5.0"
      ]
     },
     "execution_count": 23,
     "metadata": {},
     "output_type": "execute_result"
    }
   ],
   "source": [
    "function test(x, R::Type) \n",
    "    print(typeof(R))\n",
    "    print(R <: Real)\n",
    "    R(x) \n",
    "end \n",
    "test(5, Float64)"
   ]
  },
  {
   "cell_type": "code",
   "execution_count": 24,
   "id": "520e4b6f-e1c5-459b-98e5-a82a0fe276aa",
   "metadata": {},
   "outputs": [],
   "source": [
    "function Set{PairMix{String, D}}(subjects::AbstractPopulation, tests::AbstractPopulation, recipe::SampleRecipe) where {D <: AbstractDomain}\n",
    "    mixes = Set{PairMix{String, D}}()\n",
    "    for o1 in subjects.orgs\n",
    "        for o2 in sample(recipe.rng, collect(tests.orgs), recipe.n_samples, replace=false)\n",
    "            mix = PairMix{String, D}(o1, o2)\n",
    "            push!(mixes, mix)\n",
    "        end\n",
    "    end\n",
    "    mixes\n",
    "end\n",
    "\n",
    "function Set{PairMix{String, D}}(pops::Set{<:AbstractPopulation}, recipe::AbstractRecipe) where {D <: AbstractDomain, R <: AbstractRecipe}\n",
    "    if length(pops) != 2\n",
    "        error(\"Invalid number of populations for PairMix type.\")\n",
    "    end\n",
    "    pop1, pop2 = pops\n",
    "    mixes1 = Set{PairMix{String, D}}(pop1, pop2, recipe)\n",
    "    mixes2 = Set{PairMix{String, D}}(pop2, pop1, recipe)\n",
    "    union(mixes1, mixes2)\n",
    "end"
   ]
  },
  {
   "cell_type": "code",
   "execution_count": 49,
   "id": "1d8c43ac-c68e-412c-8972-a3aa0b19618e",
   "metadata": {},
   "outputs": [
    {
     "ename": "LoadError",
     "evalue": "type NamedTuple has no field n_processes",
     "output_type": "error",
     "traceback": [
      "type NamedTuple has no field n_processes",
      "",
      "Stacktrace:",
      " [1] getproperty(x::NamedTuple{(:rng, :n_samples), Tuple{StableRNGs.LehmerRNG, Int64}}, f::Symbol)",
      "   @ Base ./Base.jl:33",
      " [2] SampleRecipe(cfg::NamedTuple{(:rng, :n_samples), Tuple{StableRNGs.LehmerRNG, Int64}})",
      "   @ Main ./In[37]:8",
      " [3] top-level scope",
      "   @ In[49]:3",
      " [4] eval",
      "   @ ./boot.jl:360 [inlined]",
      " [5] include_string(mapexpr::typeof(REPL.softscope), mod::Module, code::String, filename::String)",
      "   @ Base ./loading.jl:1116"
     ]
    }
   ],
   "source": [
    "pops = Set([DummyPop(\"A\"), DummyPop(\"B\")])\n",
    "cfg = (rng = StableRNG(123), n_samples = 5)\n",
    "recipe = SampleRecipe(cfg)\n",
    "mixes = Set{PairMix{String, NGGradient}}(pops, recipe)"
   ]
  },
  {
   "cell_type": "markdown",
   "id": "58fafc7a-ebd3-46f0-8470-3b12fc334b3d",
   "metadata": {},
   "source": [
    "## PairMix"
   ]
  },
  {
   "cell_type": "code",
   "execution_count": 26,
   "id": "2ca65ca1-3f4e-4064-a124-bba385708734",
   "metadata": {},
   "outputs": [],
   "source": [
    "function Set{String}(mix::M) where {M <: AbstractMix}\n",
    "    Set([getfield(mix, fn) for fn in fieldnames(M)])\n",
    "end\n",
    "\n",
    "function Set{String}(mixes::Set{M}) where {M <: AbstractMix}\n",
    "    union([Set{String}(mix) for mix in mixes]...)\n",
    "end"
   ]
  },
  {
   "cell_type": "code",
   "execution_count": 27,
   "id": "0ceb773e-cc87-419b-a86b-b6a8c3d50715",
   "metadata": {},
   "outputs": [],
   "source": [
    "function Set{Set{M}}(mixes::Set{<:AbstractMix}, n::Int) where {M <: AbstractMix}\n",
    "    n_mix = div(length(mixes), n)\n",
    "    alljobmixes = Set{M}[]\n",
    "    m = collect(Iterators.partition(collect(mixes), n_mix))\n",
    "    if length(m) > n\n",
    "        excess = pop!(m)\n",
    "        for i in eachindex(excess)\n",
    "            push!(m[i], excess[i])\n",
    "        end\n",
    "    end\n",
    "    Set([Set{M}(x) for x in m])\n",
    "end\n",
    "    "
   ]
  },
  {
   "cell_type": "code",
   "execution_count": 43,
   "id": "74dd038f-5c9c-4d10-80e4-1803894d8c64",
   "metadata": {},
   "outputs": [
    {
     "data": {
      "text/plain": [
       "Set{Set{PairMix}} with 10 elements:\n",
       "  Set(PairMix[PairMix{String, NGGradient}(\"B-9\", \"A-9\"), PairMix{String, NGGrad…\n",
       "  Set(PairMix[PairMix{String, NGGradient}(\"B-5\", \"A-10\"), PairMix{String, NGGra…\n",
       "  Set(PairMix[PairMix{String, NGGradient}(\"A-3\", \"B-2\"), PairMix{String, NGGrad…\n",
       "  Set(PairMix[PairMix{String, NGGradient}(\"A-2\", \"B-10\"), PairMix{String, NGGra…\n",
       "  Set(PairMix[PairMix{String, NGGradient}(\"B-2\", \"A-8\"), PairMix{String, NGGrad…\n",
       "  Set(PairMix[PairMix{String, NGGradient}(\"A-9\", \"B-4\"), PairMix{String, NGGrad…\n",
       "  Set(PairMix[PairMix{String, NGGradient}(\"A-9\", \"B-10\"), PairMix{String, NGGra…\n",
       "  Set(PairMix[PairMix{String, NGGradient}(\"A-10\", \"B-1\"), PairMix{String, NGGra…\n",
       "  Set(PairMix[PairMix{String, NGGradient}(\"A-1\", \"B-10\"), PairMix{String, NGGra…\n",
       "  Set(PairMix[PairMix{String, NGGradient}(\"B-7\", \"A-9\"), PairMix{String, NGGrad…"
      ]
     },
     "execution_count": 43,
     "metadata": {},
     "output_type": "execute_result"
    }
   ],
   "source": [
    "pops = Set([DummyPop(\"A\"), DummyPop(\"B\")])\n",
    "cfg = (popkeys = Set([\"A\", \"B\"]), genome_width = 10, n_samples = 5, n_orgs = 10, rng = StableRNG(123), n_processes = 1)\n",
    "recipe = SampleRecipe(cfg)\n",
    "mixes = Set{PairMix{String, NGGradient}}(pops, recipe)\n",
    "Set{Set{PairMix}}(mixes, 10)\n"
   ]
  },
  {
   "cell_type": "code",
   "execution_count": 44,
   "id": "259b0715-9046-433a-b44e-4c0fd97b936b",
   "metadata": {},
   "outputs": [],
   "source": [
    "struct BasicCoev{P <: AbstractPopulation, R <: AbstractRecipe, M <: AbstractMix} <: AbstractCoevolution\n",
    "    gen::Int\n",
    "    pops::Set{P}\n",
    "    mixes::Set{M}\n",
    "    stats::Set{AbstractStatistics}\n",
    "    BasicCoev{P, R, M}(gen, pops, mixes) where {P <: AbstractPopulation, R <: AbstractRecipe, M <: AbstractMix} = new{P, R, M}(gen, pops, mixes, Set())\n",
    "end\n",
    "\n",
    "function BasicCoev{P, R, M}(popkeys::Set{String}, cfg::NamedTuple) where {P <: AbstractPopulation, M <: AbstractMix, R <: AbstractRecipe}\n",
    "    pops = Set([P(popkey, cfg) for popkey in popkeys])\n",
    "    mixes = Set{M}(pops, R(cfg))\n",
    "    BasicCoev{P, R, M}(1, pops, mixes)\n",
    "end\n",
    "function BasicCoev{P, R, M}(cfg::NamedTuple) where {P <: AbstractPopulation, M <: AbstractMix, R <: AbstractRecipe}\n",
    "    BasicCoev{P, R, M}(cfg.popkeys, cfg)\n",
    "end\n",
    "\n"
   ]
  },
  {
   "cell_type": "code",
   "execution_count": 45,
   "id": "c03fbfeb-43ad-492b-8efd-4ffba58201d4",
   "metadata": {
    "tags": []
   },
   "outputs": [
    {
     "data": {
      "text/plain": [
       "BasicCoev{BasicPop{BasicOrg{BasicGeno{Vector{Bool}, NumbersGame}, BasicPheno{Int64, NumbersGame}}}, SampleRecipe, PairMix{String, NGGradient}}(1, Set(BasicPop{BasicOrg{BasicGeno{Vector{Bool}, NumbersGame}, BasicPheno{Int64, NumbersGame}}}[BasicPop{BasicOrg{BasicGeno{Vector{Bool}, NumbersGame}, BasicPheno{Int64, NumbersGame}}}(\"B\", Set(BasicOrg{BasicGeno{Vector{Bool}, NumbersGame}, BasicPheno{Int64, NumbersGame}}[BasicOrg{BasicGeno{Vector{Bool}, NumbersGame}, BasicPheno{Int64, NumbersGame}}(\"B-8\", BasicGeno{Vector{Bool}, NumbersGame}(\"B-8\", Bool[0, 0, 0, 0, 0, 0, 0, 0, 0, 1], Set{AbstractStatistics}()), BasicPheno{Int64, NumbersGame}(\"B-8\", 1, Set{AbstractStatistics}()), Set{AbstractOutcome}(), Set{AbstractStatistics}()), BasicOrg{BasicGeno{Vector{Bool}, NumbersGame}, BasicPheno{Int64, NumbersGame}}(\"B-2\", BasicGeno{Vector{Bool}, NumbersGame}(\"B-2\", Bool[1, 1, 1, 1, 0, 0, 0, 0, 0, 1], Set{AbstractStatistics}()), BasicPheno{Int64, NumbersGame}(\"B-2\", 5, Set{AbstractStatistics}()), Set{AbstractOutcome}(), Set{AbstractStatistics}()), BasicOrg{BasicGeno{Vector{Bool}, NumbersGame}, BasicPheno{Int64, NumbersGame}}(\"B-1\", BasicGeno{Vector{Bool}, NumbersGame}(\"B-1\", Bool[1, 0, 1, 1, 1, 1, 0, 1, 1, 1], Set{AbstractStatistics}()), BasicPheno{Int64, NumbersGame}(\"B-1\", 8, Set{AbstractStatistics}()), Set{AbstractOutcome}(), Set{AbstractStatistics}()), BasicOrg{BasicGeno{Vector{Bool}, NumbersGame}, BasicPheno{Int64, NumbersGame}}(\"B-3\", BasicGeno{Vector{Bool}, NumbersGame}(\"B-3\", Bool[1, 0, 1, 1, 0, 1, 1, 1, 1, 0], Set{AbstractStatistics}()), BasicPheno{Int64, NumbersGame}(\"B-3\", 7, Set{AbstractStatistics}()), Set{AbstractOutcome}(), Set{AbstractStatistics}()), BasicOrg{BasicGeno{Vector{Bool}, NumbersGame}, BasicPheno{Int64, NumbersGame}}(\"B-4\", BasicGeno{Vector{Bool}, NumbersGame}(\"B-4\", Bool[1, 1, 1, 1, 1, 0, 0, 0, 0, 0], Set{AbstractStatistics}()), BasicPheno{Int64, NumbersGame}(\"B-4\", 5, Set{AbstractStatistics}()), Set{AbstractOutcome}(), Set{AbstractStatistics}()), BasicOrg{BasicGeno{Vector{Bool}, NumbersGame}, BasicPheno{Int64, NumbersGame}}(\"B-5\", BasicGeno{Vector{Bool}, NumbersGame}(\"B-5\", Bool[0, 1, 1, 1, 1, 0, 0, 0, 0, 1], Set{AbstractStatistics}()), BasicPheno{Int64, NumbersGame}(\"B-5\", 5, Set{AbstractStatistics}()), Set{AbstractOutcome}(), Set{AbstractStatistics}()), BasicOrg{BasicGeno{Vector{Bool}, NumbersGame}, BasicPheno{Int64, NumbersGame}}(\"B-6\", BasicGeno{Vector{Bool}, NumbersGame}(\"B-6\", Bool[0, 0, 1, 0, 0, 0, 1, 0, 0, 0], Set{AbstractStatistics}()), BasicPheno{Int64, NumbersGame}(\"B-6\", 2, Set{AbstractStatistics}()), Set{AbstractOutcome}(), Set{AbstractStatistics}()), BasicOrg{BasicGeno{Vector{Bool}, NumbersGame}, BasicPheno{Int64, NumbersGame}}(\"B-9\", BasicGeno{Vector{Bool}, NumbersGame}(\"B-9\", Bool[0, 1, 1, 1, 1, 0, 0, 0, 0, 1], Set{AbstractStatistics}()), BasicPheno{Int64, NumbersGame}(\"B-9\", 5, Set{AbstractStatistics}()), Set{AbstractOutcome}(), Set{AbstractStatistics}()), BasicOrg{BasicGeno{Vector{Bool}, NumbersGame}, BasicPheno{Int64, NumbersGame}}(\"B-7\", BasicGeno{Vector{Bool}, NumbersGame}(\"B-7\", Bool[1, 1, 1, 1, 1, 0, 0, 0, 1, 0], Set{AbstractStatistics}()), BasicPheno{Int64, NumbersGame}(\"B-7\", 6, Set{AbstractStatistics}()), Set{AbstractOutcome}(), Set{AbstractStatistics}()), BasicOrg{BasicGeno{Vector{Bool}, NumbersGame}, BasicPheno{Int64, NumbersGame}}(\"B-10\", BasicGeno{Vector{Bool}, NumbersGame}(\"B-10\", Bool[0, 0, 0, 1, 1, 0, 0, 0, 1, 0], Set{AbstractStatistics}()), BasicPheno{Int64, NumbersGame}(\"B-10\", 3, Set{AbstractStatistics}()), Set{AbstractOutcome}(), Set{AbstractStatistics}())]), Set{AbstractStatistics}()), BasicPop{BasicOrg{BasicGeno{Vector{Bool}, NumbersGame}, BasicPheno{Int64, NumbersGame}}}(\"A\", Set(BasicOrg{BasicGeno{Vector{Bool}, NumbersGame}, BasicPheno{Int64, NumbersGame}}[BasicOrg{BasicGeno{Vector{Bool}, NumbersGame}, BasicPheno{Int64, NumbersGame}}(\"A-10\", BasicGeno{Vector{Bool}, NumbersGame}(\"A-10\", Bool[0, 0, 0, 1, 0, 1, 1, 1, 1, 1], Set{AbstractStatistics}()), BasicPheno{Int64, NumbersGame}(\"A-10\", 6, Set{AbstractStatistics}()), Set{AbstractOutcome}(), Set{AbstractStatistics}()), BasicOrg{BasicGeno{Vector{Bool}, NumbersGame}, BasicPheno{Int64, NumbersGame}}(\"A-7\", BasicGeno{Vector{Bool}, NumbersGame}(\"A-7\", Bool[0, 0, 1, 1, 0, 1, 0, 0, 0, 0], Set{AbstractStatistics}()), BasicPheno{Int64, NumbersGame}(\"A-7\", 3, Set{AbstractStatistics}()), Set{AbstractOutcome}(), Set{AbstractStatistics}()), BasicOrg{BasicGeno{Vector{Bool}, NumbersGame}, BasicPheno{Int64, NumbersGame}}(\"A-5\", BasicGeno{Vector{Bool}, NumbersGame}(\"A-5\", Bool[0, 0, 1, 0, 1, 0, 0, 0, 0, 1], Set{AbstractStatistics}()), BasicPheno{Int64, NumbersGame}(\"A-5\", 3, Set{AbstractStatistics}()), Set{AbstractOutcome}(), Set{AbstractStatistics}()), BasicOrg{BasicGeno{Vector{Bool}, NumbersGame}, BasicPheno{Int64, NumbersGame}}(\"A-1\", BasicGeno{Vector{Bool}, NumbersGame}(\"A-1\", Bool[1, 1, 1, 1, 0, 1, 1, 0, 0, 1], Set{AbstractStatistics}()), BasicPheno{Int64, NumbersGame}(\"A-1\", 7, Set{AbstractStatistics}()), Set{AbstractOutcome}(), Set{AbstractStatistics}()), BasicOrg{BasicGeno{Vector{Bool}, NumbersGame}, BasicPheno{Int64, NumbersGame}}(\"A-2\", BasicGeno{Vector{Bool}, NumbersGame}(\"A-2\", Bool[0, 0, 1, 1, 1, 1, 0, 1, 0, 1], Set{AbstractStatistics}()), BasicPheno{Int64, NumbersGame}(\"A-2\", 6, Set{AbstractStatistics}()), Set{AbstractOutcome}(), Set{AbstractStatistics}()), BasicOrg{BasicGeno{Vector{Bool}, NumbersGame}, BasicPheno{Int64, NumbersGame}}(\"A-3\", BasicGeno{Vector{Bool}, NumbersGame}(\"A-3\", Bool[0, 1, 0, 0, 1, 1, 0, 0, 1, 1], Set{AbstractStatistics}()), BasicPheno{Int64, NumbersGame}(\"A-3\", 5, Set{AbstractStatistics}()), Set{AbstractOutcome}(), Set{AbstractStatistics}()), BasicOrg{BasicGeno{Vector{Bool}, NumbersGame}, BasicPheno{Int64, NumbersGame}}(\"A-4\", BasicGeno{Vector{Bool}, NumbersGame}(\"A-4\", Bool[1, 0, 1, 0, 1, 1, 0, 0, 1, 0], Set{AbstractStatistics}()), BasicPheno{Int64, NumbersGame}(\"A-4\", 5, Set{AbstractStatistics}()), Set{AbstractOutcome}(), Set{AbstractStatistics}()), BasicOrg{BasicGeno{Vector{Bool}, NumbersGame}, BasicPheno{Int64, NumbersGame}}(\"A-8\", BasicGeno{Vector{Bool}, NumbersGame}(\"A-8\", Bool[1, 1, 0, 1, 1, 1, 1, 1, 0, 0], Set{AbstractStatistics}()), BasicPheno{Int64, NumbersGame}(\"A-8\", 7, Set{AbstractStatistics}()), Set{AbstractOutcome}(), Set{AbstractStatistics}()), BasicOrg{BasicGeno{Vector{Bool}, NumbersGame}, BasicPheno{Int64, NumbersGame}}(\"A-6\", BasicGeno{Vector{Bool}, NumbersGame}(\"A-6\", Bool[1, 0, 1, 1, 1, 1, 0, 0, 1, 1], Set{AbstractStatistics}()), BasicPheno{Int64, NumbersGame}(\"A-6\", 7, Set{AbstractStatistics}()), Set{AbstractOutcome}(), Set{AbstractStatistics}()), BasicOrg{BasicGeno{Vector{Bool}, NumbersGame}, BasicPheno{Int64, NumbersGame}}(\"A-9\", BasicGeno{Vector{Bool}, NumbersGame}(\"A-9\", Bool[1, 0, 1, 0, 0, 1, 1, 0, 1, 0], Set{AbstractStatistics}()), BasicPheno{Int64, NumbersGame}(\"A-9\", 5, Set{AbstractStatistics}()), Set{AbstractOutcome}(), Set{AbstractStatistics}())]), Set{AbstractStatistics}())]), Set(PairMix{String, NGGradient}[PairMix{String, NGGradient}(\"A-7\", \"B-4\"), PairMix{String, NGGradient}(\"B-5\", \"A-9\"), PairMix{String, NGGradient}(\"B-1\", \"A-4\"), PairMix{String, NGGradient}(\"A-8\", \"B-10\"), PairMix{String, NGGradient}(\"A-7\", \"B-9\"), PairMix{String, NGGradient}(\"A-4\", \"B-8\"), PairMix{String, NGGradient}(\"B-6\", \"A-7\"), PairMix{String, NGGradient}(\"B-1\", \"A-2\"), PairMix{String, NGGradient}(\"B-8\", \"A-3\"), PairMix{String, NGGradient}(\"A-5\", \"B-1\")  …  PairMix{String, NGGradient}(\"B-2\", \"A-6\"), PairMix{String, NGGradient}(\"B-5\", \"A-1\"), PairMix{String, NGGradient}(\"B-1\", \"A-3\"), PairMix{String, NGGradient}(\"A-9\", \"B-1\"), PairMix{String, NGGradient}(\"A-10\", \"B-9\"), PairMix{String, NGGradient}(\"B-3\", \"A-1\"), PairMix{String, NGGradient}(\"A-5\", \"B-3\"), PairMix{String, NGGradient}(\"B-9\", \"A-3\"), PairMix{String, NGGradient}(\"B-10\", \"A-7\"), PairMix{String, NGGradient}(\"A-3\", \"B-9\")]), Set{AbstractStatistics}())"
      ]
     },
     "execution_count": 45,
     "metadata": {},
     "output_type": "execute_result"
    }
   ],
   "source": [
    "cfg = (popkeys = Set([\"A\", \"B\"]), genome_width = 10, n_samples = 5, n_orgs = 10, rng = StableRNG(123), n_processes = 1)\n",
    "\n",
    "T = Vector{Bool}\n",
    "D = NumbersGame\n",
    "# the genotype is a bitstring\n",
    "G = BasicGeno{T, D}\n",
    "# the phenotype is the sum of the 1s in the genotype\n",
    "PH = BasicPheno{Int, D}\n",
    "# organism is built from these two types\n",
    "O = BasicOrg{G, PH}\n",
    "# population is built from these orabisms\n",
    "P = BasicPop{O}\n",
    "# the game/domain is the simple \"Greater Than\" game\n",
    "# the mix comprises pairs of organisms fated to play the numbers game\n",
    "D = NGGradient\n",
    "M = PairMix{String, D}\n",
    "R = SampleRecipe\n",
    "# \n",
    "\n",
    "coev = BasicCoev{P, R, M}(cfg)\n"
   ]
  },
  {
   "cell_type": "code",
   "execution_count": 46,
   "id": "823e3ad5-638a-46b4-b120-41dd211b95ec",
   "metadata": {},
   "outputs": [
    {
     "data": {
      "text/plain": [
       "Dict{String, AbstractPhenotype} with 20 entries:\n",
       "  \"B-9\"  => BasicPheno{Int64, NumbersGame}(\"B-9\", 5, Set{AbstractStatistics}())\n",
       "  \"A-4\"  => BasicPheno{Int64, NumbersGame}(\"A-4\", 5, Set{AbstractStatistics}())\n",
       "  \"A-6\"  => BasicPheno{Int64, NumbersGame}(\"A-6\", 7, Set{AbstractStatistics}())\n",
       "  \"B-8\"  => BasicPheno{Int64, NumbersGame}(\"B-8\", 1, Set{AbstractStatistics}())\n",
       "  \"B-5\"  => BasicPheno{Int64, NumbersGame}(\"B-5\", 5, Set{AbstractStatistics}())\n",
       "  \"A-7\"  => BasicPheno{Int64, NumbersGame}(\"A-7\", 3, Set{AbstractStatistics}())\n",
       "  \"B-2\"  => BasicPheno{Int64, NumbersGame}(\"B-2\", 5, Set{AbstractStatistics}())\n",
       "  \"B-6\"  => BasicPheno{Int64, NumbersGame}(\"B-6\", 2, Set{AbstractStatistics}())\n",
       "  \"A-9\"  => BasicPheno{Int64, NumbersGame}(\"A-9\", 5, Set{AbstractStatistics}())\n",
       "  \"B-4\"  => BasicPheno{Int64, NumbersGame}(\"B-4\", 5, Set{AbstractStatistics}())\n",
       "  \"A-1\"  => BasicPheno{Int64, NumbersGame}(\"A-1\", 7, Set{AbstractStatistics}())\n",
       "  \"A-8\"  => BasicPheno{Int64, NumbersGame}(\"A-8\", 7, Set{AbstractStatistics}())\n",
       "  \"B-10\" => BasicPheno{Int64, NumbersGame}(\"B-10\", 3, Set{AbstractStatistics}())\n",
       "  \"A-5\"  => BasicPheno{Int64, NumbersGame}(\"A-5\", 3, Set{AbstractStatistics}())\n",
       "  \"A-3\"  => BasicPheno{Int64, NumbersGame}(\"A-3\", 5, Set{AbstractStatistics}())\n",
       "  \"B-1\"  => BasicPheno{Int64, NumbersGame}(\"B-1\", 8, Set{AbstractStatistics}())\n",
       "  \"B-7\"  => BasicPheno{Int64, NumbersGame}(\"B-7\", 6, Set{AbstractStatistics}())\n",
       "  \"B-3\"  => BasicPheno{Int64, NumbersGame}(\"B-3\", 7, Set{AbstractStatistics}())\n",
       "  \"A-10\" => BasicPheno{Int64, NumbersGame}(\"A-10\", 6, Set{AbstractStatistics}())\n",
       "  \"A-2\"  => BasicPheno{Int64, NumbersGame}(\"A-2\", 6, Set{AbstractStatistics}())"
      ]
     },
     "execution_count": 46,
     "metadata": {},
     "output_type": "execute_result"
    }
   ],
   "source": [
    "Dict{String, AbstractPhenotype}(rand(coev.pops))\n",
    "Dict{String, AbstractPhenotype}(coev)"
   ]
  },
  {
   "cell_type": "markdown",
   "id": "1ab07058-7963-4605-8931-76029ee8bd8f",
   "metadata": {},
   "source": [
    "## PairOutcome"
   ]
  },
  {
   "cell_type": "code",
   "execution_count": 32,
   "id": "e417c6cb-362a-4c34-998e-f68044bcd71a",
   "metadata": {},
   "outputs": [
    {
     "data": {
      "text/plain": [
       "PairOutcome"
      ]
     },
     "execution_count": 32,
     "metadata": {},
     "output_type": "execute_result"
    }
   ],
   "source": [
    "struct PairOutcome{T <: Real} <: AbstractOutcome\n",
    "    solution::Key\n",
    "    test::Key\n",
    "    score::T\n",
    "end\n",
    "\n",
    "function Set{PairOutcome}(mixset::Set{PairMix{T, D}}, cfg::NamedTuple) where {T <: AbstractPhenotype, D <: AbstractDomain}\n",
    "    reduce(union, [PairOutcome(mix.subject, mix.test, D(cfg)) for mix in mixset])\n",
    "end\n",
    "\n",
    "function PairOutcome(mix::PairMix{T, D}, cfg::NamedTuple) where {T <: AbstractPhenotype, D <: AbstractDomain}\n",
    "    PairOutcome(mix.subject, mix.test, D(cfg))\n",
    "end\n",
    "\n",
    "function PairOutcome(subject::BasicPheno{Int}, test::BasicPheno{Int}, domain::NGGradient)\n",
    "    PairOutcome(subject.key, test.key, subject.traits > test.traits)\n",
    "end\n",
    "\n",
    "function PairOutcome(subject::BasicPheno{Vector{Int}}, test::BasicPheno{Vector{Int}}, domain::NGGradient)\n",
    "    PairOutcome(subject.key, test.key, sum(subject.traits) > sum(test.traits))\n",
    "end\n",
    "\n",
    "function PairOutcome(subject::BasicPheno{Vector{Int}}, test::BasicPheno{Vector{Int}}, domain::NGFocusing)\n",
    "    v1, v2 = subject.traits, test.traits\n",
    "    maxdiff, idx = findmax([abs(x1 - x2) for (x1, x2) in zip(v1, v2)])\n",
    "    PairOutcome(subject.key, test.key, v1[idx] > v2[idx])\n",
    "end\n",
    "\n",
    "function PairOutcome(subject::BasicPheno{Vector{Int}}, test::BasicPheno{Vector{Int}}, domain::NGRelativism)\n",
    "    v1, v2 = subject.traits, test.traits\n",
    "    mindiff, idx = findmin([abs(x1 - x2) for (x1, x2) in zip(v1, v2)])\n",
    "    PairOutcome(subject.key, test.key, v1[idx] > v2[idx])\n",
    "end\n"
   ]
  },
  {
   "cell_type": "code",
   "execution_count": 50,
   "id": "0f8df2d9-756f-41f4-95e5-82cd6eddf602",
   "metadata": {},
   "outputs": [],
   "source": [
    "function Set{O}(coev::BasicCoev{P, R, M}, cfg::NamedTuple) where {O <: AbstractOutcome} \n",
    "    phenos = Dict{String, AbstractPhenotype}(coev)\n",
    "    mixes = Set{M}(coev.pops, R(cfg))\n",
    "    mixsets = Set{Set{M}}(mixes, cfg.n_processes)\n",
    "    for mixset in mixsets\n",
    "        \n",
    "        \n",
    "        O(mixset, phenos, D())\n",
    "    end\n",
    "    outcomes\n",
    "    \n",
    "    \n",
    "end"
   ]
  },
  {
   "cell_type": "code",
   "execution_count": 51,
   "id": "3e1695bc-f5b5-4d54-925f-db8093586134",
   "metadata": {},
   "outputs": [
    {
     "ename": "LoadError",
     "evalue": "MethodError: no method matching PairOutcome(::Set{PairMix{String, NGGradient}}, ::Dict{String, AbstractPhenotype}, ::NGGradient)\n\u001b[0mClosest candidates are:\n\u001b[0m  PairOutcome(\u001b[91m::BasicPheno{Int64, D} where D<:AbstractDomain\u001b[39m, \u001b[91m::BasicPheno{Int64, D} where D<:AbstractDomain\u001b[39m, ::NGGradient) at In[32]:15\n\u001b[0m  PairOutcome(\u001b[91m::BasicPheno{Vector{Int64}, D} where D<:AbstractDomain\u001b[39m, \u001b[91m::BasicPheno{Vector{Int64}, D} where D<:AbstractDomain\u001b[39m, ::NGGradient) at In[32]:19",
     "output_type": "error",
     "traceback": [
      "MethodError: no method matching PairOutcome(::Set{PairMix{String, NGGradient}}, ::Dict{String, AbstractPhenotype}, ::NGGradient)\n\u001b[0mClosest candidates are:\n\u001b[0m  PairOutcome(\u001b[91m::BasicPheno{Int64, D} where D<:AbstractDomain\u001b[39m, \u001b[91m::BasicPheno{Int64, D} where D<:AbstractDomain\u001b[39m, ::NGGradient) at In[32]:15\n\u001b[0m  PairOutcome(\u001b[91m::BasicPheno{Vector{Int64}, D} where D<:AbstractDomain\u001b[39m, \u001b[91m::BasicPheno{Vector{Int64}, D} where D<:AbstractDomain\u001b[39m, ::NGGradient) at In[32]:19",
      "",
      "Stacktrace:",
      " [1] Set{PairOutcome}(coev::BasicCoev{BasicPop{BasicOrg{BasicGeno{Vector{Bool}, NumbersGame}, BasicPheno{Int64, NumbersGame}}}, SampleRecipe, PairMix{String, NGGradient}}, cfg::NamedTuple{(:popkeys, :genome_width, :n_samples, :n_orgs, :rng, :n_processes), Tuple{Set{String}, Int64, Int64, Int64, StableRNGs.LehmerRNG, Int64}})",
      "   @ Main ./In[50]:8",
      " [2] top-level scope",
      "   @ In[51]:3",
      " [3] eval",
      "   @ ./boot.jl:360 [inlined]",
      " [4] include_string(mapexpr::typeof(REPL.softscope), mod::Module, code::String, filename::String)",
      "   @ Base ./loading.jl:1116"
     ]
    }
   ],
   "source": [
    "cfg = (popkeys = Set([\"A\", \"B\"]), genome_width = 10, n_samples = 5, n_orgs = 10, rng = StableRNG(123), n_processes=10)\n",
    "#Dict{String, AbstractPhenotype}(coev)\n",
    "Set{PairOutcome}(coev, cfg)"
   ]
  },
  {
   "cell_type": "code",
   "execution_count": 35,
   "id": "7f58b51f-6925-4206-b89d-382a4d9b7f9a",
   "metadata": {
    "tags": []
   },
   "outputs": [
    {
     "data": {
      "text/plain": [
       "PairOutcome{Bool}(\"org1\", \"org2\", false)"
      ]
     },
     "execution_count": 35,
     "metadata": {},
     "output_type": "execute_result"
    }
   ],
   "source": [
    "cfg = (rng = StableRNG(123), subvector_width = 10, genome_width = 100, n_orgs = 10)\n",
    "T = Vector{Bool}\n",
    "D = NumbersGame\n",
    "G = BasicGeno{T, D}\n",
    "\n",
    "T = Int\n",
    "D = NumbersGame\n",
    "P = BasicPheno{T, D}\n",
    "\n",
    "O = BasicOrg{G, P}\n",
    "org1 = O(\"org1\", cfg)\n",
    "org2 = O(\"org2\", cfg)\n",
    "\n",
    "D = NGGradient\n",
    "phenomix = PairMix{BasicPheno, NGGradient}(org1, org2)\n",
    "PairOutcome(phenomix, cfg)"
   ]
  },
  {
   "cell_type": "code",
   "execution_count": 36,
   "id": "50406365-59ba-44e2-ab60-52647b876781",
   "metadata": {},
   "outputs": [
    {
     "data": {
      "text/plain": [
       "run_mixdemo (generic function with 1 method)"
      ]
     },
     "execution_count": 36,
     "metadata": {},
     "output_type": "execute_result"
    }
   ],
   "source": [
    "function run_mixdemo(cfg::NamedTuple)\n",
    "    T = Vector{Bool}\n",
    "    D = NumbersGame\n",
    "    G = BasicGeno{T, D}\n",
    "\n",
    "    T = Vector{Int}\n",
    "    D = NumbersGame\n",
    "    P = BasicPheno{T, D}\n",
    "\n",
    "    O = BasicOrg{G, P}\n",
    "\n",
    "    org1, org2 = O(\"org1\", cfg), O(\"org2\", cfg)\n",
    "    t1, t2 = org1.pheno.traits, org2.pheno.traits\n",
    "    println(\"$(t1), sum = $(sum(t1))\")\n",
    "    println(\"$(t2), sum = $(sum(t2))\")\n",
    "    cfg = (heh = \"hehe\",)\n",
    "\n",
    "    for D in subtypes(NumbersGame)\n",
    "        phenomix = PairMix{P, D}(org1, org)\n",
    "        o = PairOutcome(phenomix, cfg)\n",
    "        println(D, \" - \", o.score)\n",
    "    end\n",
    "end"
   ]
  },
  {
   "cell_type": "code",
   "execution_count": 54,
   "id": "a744cd81-594b-4f7f-aaf6-2c91a15a5669",
   "metadata": {},
   "outputs": [
    {
     "ename": "LoadError",
     "evalue": "UndefVarError: run_mixdemo not defined",
     "output_type": "error",
     "traceback": [
      "UndefVarError: run_mixdemo not defined",
      "",
      "Stacktrace:",
      " [1] top-level scope",
      "   @ In[54]:2",
      " [2] eval",
      "   @ ./boot.jl:360 [inlined]",
      " [3] include_string(mapexpr::typeof(REPL.softscope), mod::Module, code::String, filename::String)",
      "   @ Base ./loading.jl:1116"
     ]
    }
   ],
   "source": [
    "cfg = (rng = StableRNG(123), subvector_width = 10, genome_width = 100, n_orgs = 10)\n",
    "run_mixdemo(cfg)\n",
    "cfg = (rng = StableRNG(42), subvector_width = 10, genome_width = 100, n_orgs = 10)\n",
    "run_mixdemo(cfg)\n",
    "cfg = (rng = StableRNG(67), subvector_width = 10, genome_width = 100, n_orgs = 10)\n",
    "run_mixdemo(cfg)\n",
    "cfg = (rng = StableRNG(3325), subvector_width = 10, genome_width = 100, n_orgs = 10)\n",
    "run_mixdemo(cfg)"
   ]
  },
  {
   "cell_type": "code",
   "execution_count": 22,
   "id": "7cb4f336-2fe3-4795-95d2-d956d18c9e9f",
   "metadata": {},
   "outputs": [
    {
     "data": {
      "text/plain": [
       "Dict{Int64, Vector{Bool}} with 5 entries:\n",
       "  5 => [0]\n",
       "  4 => [0]\n",
       "  7 => [1]\n",
       "  2 => [1]\n",
       "  1 => [1, 0, 0, 0, 1, 0]"
      ]
     },
     "execution_count": 22,
     "metadata": {},
     "output_type": "execute_result"
    }
   ],
   "source": [
    "v1 = [4, 4, 8, 6, 4, 2, 6, 5, 7, 3]\n",
    "v2 = [9, 3, 1, 7, 5, 3, 5, 3, 8, 7]\n",
    "\n",
    "\n",
    "d = Dict{Int, Vector{Bool}}()\n",
    "\n",
    "\n",
    "for (diff, gt) in [(abs(x1 - x2), x1 > x2) for (x1, x2) in zip(v1, v2)]\n",
    "    if haskey(d, diff)\n",
    "        push!(d[diff], gt)\n",
    "    else\n",
    "        d[diff] = Bool[gt]\n",
    "    end\n",
    "end\n",
    "d\n"
   ]
  },
  {
   "cell_type": "code",
   "execution_count": null,
   "id": "5a9e174b-0f39-4991-a4a4-5c583c2f54b2",
   "metadata": {},
   "outputs": [],
   "source": [
    "\n",
    "struct StatFeatures\n",
    "    mean::Float64\n",
    "    quartiles::Vector{Float64}\n",
    "    var::Float64\n",
    "    std::Float64\n",
    "end\n",
    "\n",
    "struct NGOrgStats <: AbstractStatistics\n",
    "    subjective_fitness::Int\n",
    "    objective_fitness::Int\n",
    "end\n",
    "struct NGPopStats <: AbstractStatistics\n",
    "    obj_fitness::StatFeatures\n",
    "    subj_fitness::StatFeatures\n",
    "end\n"
   ]
  },
  {
   "cell_type": "code",
   "execution_count": null,
   "id": "6b5a597c-c292-40dd-b83e-b9133b059427",
   "metadata": {},
   "outputs": [],
   "source": []
  },
  {
   "cell_type": "code",
   "execution_count": null,
   "id": "64c4a377-e5d7-4c9d-b266-87d0bf941c3d",
   "metadata": {},
   "outputs": [],
   "source": []
  },
  {
   "cell_type": "code",
   "execution_count": null,
   "id": "e46c279d-bf5c-4c81-a8d4-7260cfaab235",
   "metadata": {},
   "outputs": [],
   "source": []
  }
 ],
 "metadata": {
  "kernelspec": {
   "display_name": "Julia 1.6.2",
   "language": "julia",
   "name": "julia-1.6"
  },
  "language_info": {
   "file_extension": ".jl",
   "mimetype": "application/julia",
   "name": "julia",
   "version": "1.6.2"
  }
 },
 "nbformat": 4,
 "nbformat_minor": 5
}
